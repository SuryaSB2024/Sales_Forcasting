{
 "cells": [
  {
   "cell_type": "markdown",
   "id": "hnK8SNuN3kb8",
   "metadata": {
    "id": "hnK8SNuN3kb8"
   },
   "source": [
    "# Part 1: Data Processing and Feature Engineering\n",
    "# Importing Libraries\n",
    "# numpy and pandas: For handling data and doing calculations.\n",
    "# matplotlib.pyplot and seaborn: For creating visualizations to explore and understand the data"
   ]
  },
  {
   "cell_type": "code",
   "execution_count": 1,
   "id": "FgYF71JDgj7m",
   "metadata": {
    "colab": {
     "base_uri": "https://localhost:8080/"
    },
    "executionInfo": {
     "elapsed": 3807,
     "status": "ok",
     "timestamp": 1744191634612,
     "user": {
      "displayName": "Surya S B",
      "userId": "17741313183794657452"
     },
     "user_tz": -330
    },
    "id": "FgYF71JDgj7m",
    "outputId": "15a651ad-a49d-480e-9723-53c8f9588f87"
   },
   "outputs": [],
   "source": [
    "# from google.colab import drive\n",
    "# drive.mount('/gdrive')"
   ]
  },
  {
   "cell_type": "code",
   "execution_count": 2,
   "id": "8deea4ed-1073-4dcb-bdba-6d3e4290201e",
   "metadata": {
    "executionInfo": {
     "elapsed": 3421,
     "status": "ok",
     "timestamp": 1744191638032,
     "user": {
      "displayName": "Surya S B",
      "userId": "17741313183794657452"
     },
     "user_tz": -330
    },
    "id": "8deea4ed-1073-4dcb-bdba-6d3e4290201e"
   },
   "outputs": [],
   "source": [
    "import pandas as pd\n",
    "import numpy as np\n",
    "import matplotlib.pyplot as plt\n",
    "import seaborn as sns"
   ]
  },
  {
   "cell_type": "markdown",
   "id": "IG_7-ACM32Kn",
   "metadata": {
    "id": "IG_7-ACM32Kn"
   },
   "source": [
    "Loaded all datasets (sales, oil prices, store details, holidays)"
   ]
  },
  {
   "cell_type": "code",
   "execution_count": 3,
   "id": "qFfcTRLphYrd",
   "metadata": {
    "executionInfo": {
     "elapsed": 11402,
     "status": "ok",
     "timestamp": 1744191649428,
     "user": {
      "displayName": "Surya S B",
      "userId": "17741313183794657452"
     },
     "user_tz": -330
    },
    "id": "qFfcTRLphYrd"
   },
   "outputs": [],
   "source": [
    "# test = pd.read_csv('/gdrive/My Drive/Colab Notebooks/Datasets/test.csv')\n",
    "# stores = pd.read_csv('/gdrive/My Drive/Colab Notebooks/Datasets/stores.csv')\n",
    "# oil = pd.read_csv('/gdrive/My Drive/Colab Notebooks/Datasets/oil.csv')\n",
    "# holidays = pd.read_csv('/gdrive/My Drive/Colab Notebooks/Datasets/holidays_events.csv')\n",
    "# train = pd.read_csv('/gdrive/My Drive/Colab Notebooks/Datasets/train.csv')"
   ]
  },
  {
   "cell_type": "code",
   "execution_count": 4,
   "id": "01a4014f-e15e-47ba-8861-047596d03913",
   "metadata": {
    "executionInfo": {
     "elapsed": 4,
     "status": "ok",
     "timestamp": 1744191649435,
     "user": {
      "displayName": "Surya S B",
      "userId": "17741313183794657452"
     },
     "user_tz": -330
    },
    "id": "01a4014f-e15e-47ba-8861-047596d03913"
   },
   "outputs": [],
   "source": [
    "test = pd.read_csv(\"test.csv\")\n",
    "stores = pd.read_csv(\"stores.csv\")\n",
    "oil = pd.read_csv(\"oil.csv\")\n",
    "holidays = pd.read_csv(\"holidays_events.csv\")\n",
    "train = pd.read_csv(\"train.csv\")"
   ]
  },
  {
   "cell_type": "code",
   "execution_count": 5,
   "id": "6db9bf08-c72c-46c8-b5e3-37d1e0d97351",
   "metadata": {
    "executionInfo": {
     "elapsed": 11,
     "status": "ok",
     "timestamp": 1744191649465,
     "user": {
      "displayName": "Surya S B",
      "userId": "17741313183794657452"
     },
     "user_tz": -330
    },
    "id": "6db9bf08-c72c-46c8-b5e3-37d1e0d97351"
   },
   "outputs": [],
   "source": [
    "# Convert oil['date'] to datetime\n",
    "oil['date'] = pd.to_datetime(oil['date'])\n"
   ]
  },
  {
   "cell_type": "code",
   "execution_count": 6,
   "id": "be2b347e-4989-4d7e-b8f7-83b076fe8fcf",
   "metadata": {
    "executionInfo": {
     "elapsed": 13,
     "status": "ok",
     "timestamp": 1744191649483,
     "user": {
      "displayName": "Surya S B",
      "userId": "17741313183794657452"
     },
     "user_tz": -330
    },
    "id": "be2b347e-4989-4d7e-b8f7-83b076fe8fcf"
   },
   "outputs": [],
   "source": [
    "\n",
    "# Interpolate missing values\n",
    "oil['dcoilwtico'] = oil['dcoilwtico'].interpolate(method='linear')"
   ]
  },
  {
   "cell_type": "code",
   "execution_count": 7,
   "id": "533657cb-30c5-45f5-b95d-b369eac994dd",
   "metadata": {
    "colab": {
     "base_uri": "https://localhost:8080/",
     "height": 423
    },
    "executionInfo": {
     "elapsed": 68,
     "status": "ok",
     "timestamp": 1744191649568,
     "user": {
      "displayName": "Surya S B",
      "userId": "17741313183794657452"
     },
     "user_tz": -330
    },
    "id": "533657cb-30c5-45f5-b95d-b369eac994dd",
    "outputId": "59e859fa-0c80-46c3-fb86-4fb7f67395d4"
   },
   "outputs": [
    {
     "data": {
      "text/html": [
       "<div>\n",
       "<style scoped>\n",
       "    .dataframe tbody tr th:only-of-type {\n",
       "        vertical-align: middle;\n",
       "    }\n",
       "\n",
       "    .dataframe tbody tr th {\n",
       "        vertical-align: top;\n",
       "    }\n",
       "\n",
       "    .dataframe thead th {\n",
       "        text-align: right;\n",
       "    }\n",
       "</style>\n",
       "<table border=\"1\" class=\"dataframe\">\n",
       "  <thead>\n",
       "    <tr style=\"text-align: right;\">\n",
       "      <th></th>\n",
       "      <th>date</th>\n",
       "      <th>dcoilwtico</th>\n",
       "    </tr>\n",
       "  </thead>\n",
       "  <tbody>\n",
       "    <tr>\n",
       "      <th>0</th>\n",
       "      <td>2013-01-01</td>\n",
       "      <td>NaN</td>\n",
       "    </tr>\n",
       "    <tr>\n",
       "      <th>1</th>\n",
       "      <td>2013-01-02</td>\n",
       "      <td>93.14</td>\n",
       "    </tr>\n",
       "    <tr>\n",
       "      <th>2</th>\n",
       "      <td>2013-01-03</td>\n",
       "      <td>92.97</td>\n",
       "    </tr>\n",
       "    <tr>\n",
       "      <th>3</th>\n",
       "      <td>2013-01-04</td>\n",
       "      <td>93.12</td>\n",
       "    </tr>\n",
       "    <tr>\n",
       "      <th>4</th>\n",
       "      <td>2013-01-07</td>\n",
       "      <td>93.20</td>\n",
       "    </tr>\n",
       "    <tr>\n",
       "      <th>...</th>\n",
       "      <td>...</td>\n",
       "      <td>...</td>\n",
       "    </tr>\n",
       "    <tr>\n",
       "      <th>1213</th>\n",
       "      <td>2017-08-25</td>\n",
       "      <td>47.65</td>\n",
       "    </tr>\n",
       "    <tr>\n",
       "      <th>1214</th>\n",
       "      <td>2017-08-28</td>\n",
       "      <td>46.40</td>\n",
       "    </tr>\n",
       "    <tr>\n",
       "      <th>1215</th>\n",
       "      <td>2017-08-29</td>\n",
       "      <td>46.46</td>\n",
       "    </tr>\n",
       "    <tr>\n",
       "      <th>1216</th>\n",
       "      <td>2017-08-30</td>\n",
       "      <td>45.96</td>\n",
       "    </tr>\n",
       "    <tr>\n",
       "      <th>1217</th>\n",
       "      <td>2017-08-31</td>\n",
       "      <td>47.26</td>\n",
       "    </tr>\n",
       "  </tbody>\n",
       "</table>\n",
       "<p>1218 rows × 2 columns</p>\n",
       "</div>"
      ],
      "text/plain": [
       "           date  dcoilwtico\n",
       "0    2013-01-01         NaN\n",
       "1    2013-01-02       93.14\n",
       "2    2013-01-03       92.97\n",
       "3    2013-01-04       93.12\n",
       "4    2013-01-07       93.20\n",
       "...         ...         ...\n",
       "1213 2017-08-25       47.65\n",
       "1214 2017-08-28       46.40\n",
       "1215 2017-08-29       46.46\n",
       "1216 2017-08-30       45.96\n",
       "1217 2017-08-31       47.26\n",
       "\n",
       "[1218 rows x 2 columns]"
      ]
     },
     "execution_count": 7,
     "metadata": {},
     "output_type": "execute_result"
    }
   ],
   "source": [
    "oil"
   ]
  },
  {
   "cell_type": "code",
   "execution_count": 8,
   "id": "13f44fba-dc38-40fe-9798-ec3478c0bc29",
   "metadata": {
    "executionInfo": {
     "elapsed": 27,
     "status": "ok",
     "timestamp": 1744191649597,
     "user": {
      "displayName": "Surya S B",
      "userId": "17741313183794657452"
     },
     "user_tz": -330
    },
    "id": "13f44fba-dc38-40fe-9798-ec3478c0bc29"
   },
   "outputs": [],
   "source": [
    "# Convert date in test set\n",
    "test['date'] = pd.to_datetime(test['date'], format='%Y-%m-%d')"
   ]
  },
  {
   "cell_type": "code",
   "execution_count": 9,
   "id": "6085d359-e842-4a80-a52e-435629e96300",
   "metadata": {
    "colab": {
     "base_uri": "https://localhost:8080/",
     "height": 206
    },
    "executionInfo": {
     "elapsed": 102,
     "status": "ok",
     "timestamp": 1744191649701,
     "user": {
      "displayName": "Surya S B",
      "userId": "17741313183794657452"
     },
     "user_tz": -330
    },
    "id": "6085d359-e842-4a80-a52e-435629e96300",
    "outputId": "dc44063e-ca05-42cd-ff56-8374892c79f7"
   },
   "outputs": [
    {
     "data": {
      "text/html": [
       "<div>\n",
       "<style scoped>\n",
       "    .dataframe tbody tr th:only-of-type {\n",
       "        vertical-align: middle;\n",
       "    }\n",
       "\n",
       "    .dataframe tbody tr th {\n",
       "        vertical-align: top;\n",
       "    }\n",
       "\n",
       "    .dataframe thead th {\n",
       "        text-align: right;\n",
       "    }\n",
       "</style>\n",
       "<table border=\"1\" class=\"dataframe\">\n",
       "  <thead>\n",
       "    <tr style=\"text-align: right;\">\n",
       "      <th></th>\n",
       "      <th>id</th>\n",
       "      <th>date</th>\n",
       "      <th>store_nbr</th>\n",
       "      <th>family</th>\n",
       "      <th>onpromotion</th>\n",
       "    </tr>\n",
       "  </thead>\n",
       "  <tbody>\n",
       "    <tr>\n",
       "      <th>0</th>\n",
       "      <td>3000888</td>\n",
       "      <td>2017-08-16</td>\n",
       "      <td>1</td>\n",
       "      <td>AUTOMOTIVE</td>\n",
       "      <td>0</td>\n",
       "    </tr>\n",
       "    <tr>\n",
       "      <th>1</th>\n",
       "      <td>3000889</td>\n",
       "      <td>2017-08-16</td>\n",
       "      <td>1</td>\n",
       "      <td>BABY CARE</td>\n",
       "      <td>0</td>\n",
       "    </tr>\n",
       "    <tr>\n",
       "      <th>2</th>\n",
       "      <td>3000890</td>\n",
       "      <td>2017-08-16</td>\n",
       "      <td>1</td>\n",
       "      <td>BEAUTY</td>\n",
       "      <td>2</td>\n",
       "    </tr>\n",
       "    <tr>\n",
       "      <th>3</th>\n",
       "      <td>3000891</td>\n",
       "      <td>2017-08-16</td>\n",
       "      <td>1</td>\n",
       "      <td>BEVERAGES</td>\n",
       "      <td>20</td>\n",
       "    </tr>\n",
       "    <tr>\n",
       "      <th>4</th>\n",
       "      <td>3000892</td>\n",
       "      <td>2017-08-16</td>\n",
       "      <td>1</td>\n",
       "      <td>BOOKS</td>\n",
       "      <td>0</td>\n",
       "    </tr>\n",
       "  </tbody>\n",
       "</table>\n",
       "</div>"
      ],
      "text/plain": [
       "        id       date  store_nbr      family  onpromotion\n",
       "0  3000888 2017-08-16          1  AUTOMOTIVE            0\n",
       "1  3000889 2017-08-16          1   BABY CARE            0\n",
       "2  3000890 2017-08-16          1      BEAUTY            2\n",
       "3  3000891 2017-08-16          1   BEVERAGES           20\n",
       "4  3000892 2017-08-16          1       BOOKS            0"
      ]
     },
     "execution_count": 9,
     "metadata": {},
     "output_type": "execute_result"
    }
   ],
   "source": [
    "test.head()"
   ]
  },
  {
   "cell_type": "code",
   "execution_count": 10,
   "id": "cd6e6699-6cde-4732-91ee-856655ae895f",
   "metadata": {
    "colab": {
     "base_uri": "https://localhost:8080/"
    },
    "executionInfo": {
     "elapsed": 63,
     "status": "ok",
     "timestamp": 1744191649762,
     "user": {
      "displayName": "Surya S B",
      "userId": "17741313183794657452"
     },
     "user_tz": -330
    },
    "id": "cd6e6699-6cde-4732-91ee-856655ae895f",
    "outputId": "2f5345c9-5c57-4418-813d-9ec6b478086e"
   },
   "outputs": [
    {
     "name": "stdout",
     "output_type": "stream",
     "text": [
      "<class 'pandas.core.frame.DataFrame'>\n",
      "RangeIndex: 28512 entries, 0 to 28511\n",
      "Data columns (total 5 columns):\n",
      " #   Column       Non-Null Count  Dtype         \n",
      "---  ------       --------------  -----         \n",
      " 0   id           28512 non-null  int64         \n",
      " 1   date         28512 non-null  datetime64[ns]\n",
      " 2   store_nbr    28512 non-null  int64         \n",
      " 3   family       28512 non-null  object        \n",
      " 4   onpromotion  28512 non-null  int64         \n",
      "dtypes: datetime64[ns](1), int64(3), object(1)\n",
      "memory usage: 1.1+ MB\n"
     ]
    }
   ],
   "source": [
    "test.info()"
   ]
  },
  {
   "cell_type": "code",
   "execution_count": 11,
   "id": "7983bdb6-7b62-45ea-82a8-3c01235e5bd7",
   "metadata": {
    "executionInfo": {
     "elapsed": 5,
     "status": "ok",
     "timestamp": 1744191649763,
     "user": {
      "displayName": "Surya S B",
      "userId": "17741313183794657452"
     },
     "user_tz": -330
    },
    "id": "7983bdb6-7b62-45ea-82a8-3c01235e5bd7"
   },
   "outputs": [],
   "source": [
    "# Already converted oil['date'] above\n",
    "# Convert holidays_events['date']\n",
    "holidays['date'] = pd.to_datetime(holidays['date'])"
   ]
  },
  {
   "cell_type": "code",
   "execution_count": 12,
   "id": "7f2d7747-fbb8-4430-bc46-6ba3f3551e5f",
   "metadata": {
    "colab": {
     "base_uri": "https://localhost:8080/",
     "height": 423
    },
    "executionInfo": {
     "elapsed": 60,
     "status": "ok",
     "timestamp": 1744191649821,
     "user": {
      "displayName": "Surya S B",
      "userId": "17741313183794657452"
     },
     "user_tz": -330
    },
    "id": "7f2d7747-fbb8-4430-bc46-6ba3f3551e5f",
    "outputId": "80a9fcc1-39e2-40ee-847b-4911e69bab77"
   },
   "outputs": [
    {
     "data": {
      "text/html": [
       "<div>\n",
       "<style scoped>\n",
       "    .dataframe tbody tr th:only-of-type {\n",
       "        vertical-align: middle;\n",
       "    }\n",
       "\n",
       "    .dataframe tbody tr th {\n",
       "        vertical-align: top;\n",
       "    }\n",
       "\n",
       "    .dataframe thead th {\n",
       "        text-align: right;\n",
       "    }\n",
       "</style>\n",
       "<table border=\"1\" class=\"dataframe\">\n",
       "  <thead>\n",
       "    <tr style=\"text-align: right;\">\n",
       "      <th></th>\n",
       "      <th>date</th>\n",
       "      <th>type</th>\n",
       "      <th>locale</th>\n",
       "      <th>locale_name</th>\n",
       "      <th>description</th>\n",
       "      <th>transferred</th>\n",
       "    </tr>\n",
       "  </thead>\n",
       "  <tbody>\n",
       "    <tr>\n",
       "      <th>0</th>\n",
       "      <td>2012-03-02</td>\n",
       "      <td>Holiday</td>\n",
       "      <td>Local</td>\n",
       "      <td>Manta</td>\n",
       "      <td>Fundacion de Manta</td>\n",
       "      <td>False</td>\n",
       "    </tr>\n",
       "    <tr>\n",
       "      <th>1</th>\n",
       "      <td>2012-04-01</td>\n",
       "      <td>Holiday</td>\n",
       "      <td>Regional</td>\n",
       "      <td>Cotopaxi</td>\n",
       "      <td>Provincializacion de Cotopaxi</td>\n",
       "      <td>False</td>\n",
       "    </tr>\n",
       "    <tr>\n",
       "      <th>2</th>\n",
       "      <td>2012-04-12</td>\n",
       "      <td>Holiday</td>\n",
       "      <td>Local</td>\n",
       "      <td>Cuenca</td>\n",
       "      <td>Fundacion de Cuenca</td>\n",
       "      <td>False</td>\n",
       "    </tr>\n",
       "    <tr>\n",
       "      <th>3</th>\n",
       "      <td>2012-04-14</td>\n",
       "      <td>Holiday</td>\n",
       "      <td>Local</td>\n",
       "      <td>Libertad</td>\n",
       "      <td>Cantonizacion de Libertad</td>\n",
       "      <td>False</td>\n",
       "    </tr>\n",
       "    <tr>\n",
       "      <th>4</th>\n",
       "      <td>2012-04-21</td>\n",
       "      <td>Holiday</td>\n",
       "      <td>Local</td>\n",
       "      <td>Riobamba</td>\n",
       "      <td>Cantonizacion de Riobamba</td>\n",
       "      <td>False</td>\n",
       "    </tr>\n",
       "    <tr>\n",
       "      <th>...</th>\n",
       "      <td>...</td>\n",
       "      <td>...</td>\n",
       "      <td>...</td>\n",
       "      <td>...</td>\n",
       "      <td>...</td>\n",
       "      <td>...</td>\n",
       "    </tr>\n",
       "    <tr>\n",
       "      <th>345</th>\n",
       "      <td>2017-12-22</td>\n",
       "      <td>Additional</td>\n",
       "      <td>National</td>\n",
       "      <td>Ecuador</td>\n",
       "      <td>Navidad-3</td>\n",
       "      <td>False</td>\n",
       "    </tr>\n",
       "    <tr>\n",
       "      <th>346</th>\n",
       "      <td>2017-12-23</td>\n",
       "      <td>Additional</td>\n",
       "      <td>National</td>\n",
       "      <td>Ecuador</td>\n",
       "      <td>Navidad-2</td>\n",
       "      <td>False</td>\n",
       "    </tr>\n",
       "    <tr>\n",
       "      <th>347</th>\n",
       "      <td>2017-12-24</td>\n",
       "      <td>Additional</td>\n",
       "      <td>National</td>\n",
       "      <td>Ecuador</td>\n",
       "      <td>Navidad-1</td>\n",
       "      <td>False</td>\n",
       "    </tr>\n",
       "    <tr>\n",
       "      <th>348</th>\n",
       "      <td>2017-12-25</td>\n",
       "      <td>Holiday</td>\n",
       "      <td>National</td>\n",
       "      <td>Ecuador</td>\n",
       "      <td>Navidad</td>\n",
       "      <td>False</td>\n",
       "    </tr>\n",
       "    <tr>\n",
       "      <th>349</th>\n",
       "      <td>2017-12-26</td>\n",
       "      <td>Additional</td>\n",
       "      <td>National</td>\n",
       "      <td>Ecuador</td>\n",
       "      <td>Navidad+1</td>\n",
       "      <td>False</td>\n",
       "    </tr>\n",
       "  </tbody>\n",
       "</table>\n",
       "<p>350 rows × 6 columns</p>\n",
       "</div>"
      ],
      "text/plain": [
       "          date        type    locale locale_name  \\\n",
       "0   2012-03-02     Holiday     Local       Manta   \n",
       "1   2012-04-01     Holiday  Regional    Cotopaxi   \n",
       "2   2012-04-12     Holiday     Local      Cuenca   \n",
       "3   2012-04-14     Holiday     Local    Libertad   \n",
       "4   2012-04-21     Holiday     Local    Riobamba   \n",
       "..         ...         ...       ...         ...   \n",
       "345 2017-12-22  Additional  National     Ecuador   \n",
       "346 2017-12-23  Additional  National     Ecuador   \n",
       "347 2017-12-24  Additional  National     Ecuador   \n",
       "348 2017-12-25     Holiday  National     Ecuador   \n",
       "349 2017-12-26  Additional  National     Ecuador   \n",
       "\n",
       "                       description  transferred  \n",
       "0               Fundacion de Manta        False  \n",
       "1    Provincializacion de Cotopaxi        False  \n",
       "2              Fundacion de Cuenca        False  \n",
       "3        Cantonizacion de Libertad        False  \n",
       "4        Cantonizacion de Riobamba        False  \n",
       "..                             ...          ...  \n",
       "345                      Navidad-3        False  \n",
       "346                      Navidad-2        False  \n",
       "347                      Navidad-1        False  \n",
       "348                        Navidad        False  \n",
       "349                      Navidad+1        False  \n",
       "\n",
       "[350 rows x 6 columns]"
      ]
     },
     "execution_count": 12,
     "metadata": {},
     "output_type": "execute_result"
    }
   ],
   "source": [
    "holidays"
   ]
  },
  {
   "cell_type": "code",
   "execution_count": 13,
   "id": "f2f8cf5e-7a59-4bd4-b8a6-1301b7cbef84",
   "metadata": {
    "executionInfo": {
     "elapsed": 970,
     "status": "ok",
     "timestamp": 1744191650787,
     "user": {
      "displayName": "Surya S B",
      "userId": "17741313183794657452"
     },
     "user_tz": -330
    },
    "id": "f2f8cf5e-7a59-4bd4-b8a6-1301b7cbef84"
   },
   "outputs": [],
   "source": [
    "train['date'] = pd.to_datetime(train['date'], format='%Y-%m-%d')\n"
   ]
  },
  {
   "cell_type": "code",
   "execution_count": 14,
   "id": "078BGXB_weTC",
   "metadata": {
    "colab": {
     "base_uri": "https://localhost:8080/",
     "height": 423
    },
    "executionInfo": {
     "elapsed": 38,
     "status": "ok",
     "timestamp": 1744191650819,
     "user": {
      "displayName": "Surya S B",
      "userId": "17741313183794657452"
     },
     "user_tz": -330
    },
    "id": "078BGXB_weTC",
    "outputId": "6681fbda-5729-47de-c89a-32ccceaf10ac"
   },
   "outputs": [
    {
     "data": {
      "text/html": [
       "<div>\n",
       "<style scoped>\n",
       "    .dataframe tbody tr th:only-of-type {\n",
       "        vertical-align: middle;\n",
       "    }\n",
       "\n",
       "    .dataframe tbody tr th {\n",
       "        vertical-align: top;\n",
       "    }\n",
       "\n",
       "    .dataframe thead th {\n",
       "        text-align: right;\n",
       "    }\n",
       "</style>\n",
       "<table border=\"1\" class=\"dataframe\">\n",
       "  <thead>\n",
       "    <tr style=\"text-align: right;\">\n",
       "      <th></th>\n",
       "      <th>id</th>\n",
       "      <th>date</th>\n",
       "      <th>store_nbr</th>\n",
       "      <th>family</th>\n",
       "      <th>sales</th>\n",
       "      <th>onpromotion</th>\n",
       "    </tr>\n",
       "  </thead>\n",
       "  <tbody>\n",
       "    <tr>\n",
       "      <th>0</th>\n",
       "      <td>0</td>\n",
       "      <td>2013-01-01</td>\n",
       "      <td>1</td>\n",
       "      <td>AUTOMOTIVE</td>\n",
       "      <td>0.000</td>\n",
       "      <td>0</td>\n",
       "    </tr>\n",
       "    <tr>\n",
       "      <th>1</th>\n",
       "      <td>1</td>\n",
       "      <td>2013-01-01</td>\n",
       "      <td>1</td>\n",
       "      <td>BABY CARE</td>\n",
       "      <td>0.000</td>\n",
       "      <td>0</td>\n",
       "    </tr>\n",
       "    <tr>\n",
       "      <th>2</th>\n",
       "      <td>2</td>\n",
       "      <td>2013-01-01</td>\n",
       "      <td>1</td>\n",
       "      <td>BEAUTY</td>\n",
       "      <td>0.000</td>\n",
       "      <td>0</td>\n",
       "    </tr>\n",
       "    <tr>\n",
       "      <th>3</th>\n",
       "      <td>3</td>\n",
       "      <td>2013-01-01</td>\n",
       "      <td>1</td>\n",
       "      <td>BEVERAGES</td>\n",
       "      <td>0.000</td>\n",
       "      <td>0</td>\n",
       "    </tr>\n",
       "    <tr>\n",
       "      <th>4</th>\n",
       "      <td>4</td>\n",
       "      <td>2013-01-01</td>\n",
       "      <td>1</td>\n",
       "      <td>BOOKS</td>\n",
       "      <td>0.000</td>\n",
       "      <td>0</td>\n",
       "    </tr>\n",
       "    <tr>\n",
       "      <th>...</th>\n",
       "      <td>...</td>\n",
       "      <td>...</td>\n",
       "      <td>...</td>\n",
       "      <td>...</td>\n",
       "      <td>...</td>\n",
       "      <td>...</td>\n",
       "    </tr>\n",
       "    <tr>\n",
       "      <th>3000883</th>\n",
       "      <td>3000883</td>\n",
       "      <td>2017-08-15</td>\n",
       "      <td>9</td>\n",
       "      <td>POULTRY</td>\n",
       "      <td>438.133</td>\n",
       "      <td>0</td>\n",
       "    </tr>\n",
       "    <tr>\n",
       "      <th>3000884</th>\n",
       "      <td>3000884</td>\n",
       "      <td>2017-08-15</td>\n",
       "      <td>9</td>\n",
       "      <td>PREPARED FOODS</td>\n",
       "      <td>154.553</td>\n",
       "      <td>1</td>\n",
       "    </tr>\n",
       "    <tr>\n",
       "      <th>3000885</th>\n",
       "      <td>3000885</td>\n",
       "      <td>2017-08-15</td>\n",
       "      <td>9</td>\n",
       "      <td>PRODUCE</td>\n",
       "      <td>2419.729</td>\n",
       "      <td>148</td>\n",
       "    </tr>\n",
       "    <tr>\n",
       "      <th>3000886</th>\n",
       "      <td>3000886</td>\n",
       "      <td>2017-08-15</td>\n",
       "      <td>9</td>\n",
       "      <td>SCHOOL AND OFFICE SUPPLIES</td>\n",
       "      <td>121.000</td>\n",
       "      <td>8</td>\n",
       "    </tr>\n",
       "    <tr>\n",
       "      <th>3000887</th>\n",
       "      <td>3000887</td>\n",
       "      <td>2017-08-15</td>\n",
       "      <td>9</td>\n",
       "      <td>SEAFOOD</td>\n",
       "      <td>16.000</td>\n",
       "      <td>0</td>\n",
       "    </tr>\n",
       "  </tbody>\n",
       "</table>\n",
       "<p>3000888 rows × 6 columns</p>\n",
       "</div>"
      ],
      "text/plain": [
       "              id       date  store_nbr                      family     sales  \\\n",
       "0              0 2013-01-01          1                  AUTOMOTIVE     0.000   \n",
       "1              1 2013-01-01          1                   BABY CARE     0.000   \n",
       "2              2 2013-01-01          1                      BEAUTY     0.000   \n",
       "3              3 2013-01-01          1                   BEVERAGES     0.000   \n",
       "4              4 2013-01-01          1                       BOOKS     0.000   \n",
       "...          ...        ...        ...                         ...       ...   \n",
       "3000883  3000883 2017-08-15          9                     POULTRY   438.133   \n",
       "3000884  3000884 2017-08-15          9              PREPARED FOODS   154.553   \n",
       "3000885  3000885 2017-08-15          9                     PRODUCE  2419.729   \n",
       "3000886  3000886 2017-08-15          9  SCHOOL AND OFFICE SUPPLIES   121.000   \n",
       "3000887  3000887 2017-08-15          9                     SEAFOOD    16.000   \n",
       "\n",
       "         onpromotion  \n",
       "0                  0  \n",
       "1                  0  \n",
       "2                  0  \n",
       "3                  0  \n",
       "4                  0  \n",
       "...              ...  \n",
       "3000883            0  \n",
       "3000884            1  \n",
       "3000885          148  \n",
       "3000886            8  \n",
       "3000887            0  \n",
       "\n",
       "[3000888 rows x 6 columns]"
      ]
     },
     "execution_count": 14,
     "metadata": {},
     "output_type": "execute_result"
    }
   ],
   "source": [
    "train"
   ]
  },
  {
   "cell_type": "markdown",
   "id": "__UiL0nk4YdO",
   "metadata": {
    "id": "__UiL0nk4YdO"
   },
   "source": [
    "Merge the 'oil', 'holidays', and 'stores' DataFrames with the train DataFrame\n",
    "The merges are performed using a left join to retain all rows from the train DataFrame."
   ]
  },
  {
   "cell_type": "code",
   "execution_count": 15,
   "id": "W75WDWJWi0kg",
   "metadata": {
    "executionInfo": {
     "elapsed": 14034,
     "status": "ok",
     "timestamp": 1744191664854,
     "user": {
      "displayName": "Surya S B",
      "userId": "17741313183794657452"
     },
     "user_tz": -330
    },
    "id": "W75WDWJWi0kg"
   },
   "outputs": [],
   "source": [
    "# Merge with stores on 'store_nbr'\n",
    "merged_df = train.merge(stores, on='store_nbr', how='left')\n",
    "\n",
    "# Merge with oil data on 'date'\n",
    "merged_df = merged_df.merge(oil, on='date', how='left')\n",
    "\n",
    "# Merge with holidays on 'date'\n",
    "merged_df = merged_df.merge(holidays, on='date', how='left')"
   ]
  },
  {
   "cell_type": "markdown",
   "id": "14ccdb1b-a11d-4ca3-84ba-8e22b983f5b3",
   "metadata": {
    "id": "14ccdb1b-a11d-4ca3-84ba-8e22b983f5b3"
   },
   "source": [
    "# we have merge with main train dataset"
   ]
  },
  {
   "cell_type": "code",
   "execution_count": 16,
   "id": "8a35c103-4ce7-4999-beb9-2f6cc0c9484e",
   "metadata": {
    "executionInfo": {
     "elapsed": 4,
     "status": "ok",
     "timestamp": 1744191664856,
     "user": {
      "displayName": "Surya S B",
      "userId": "17741313183794657452"
     },
     "user_tz": -330
    },
    "id": "8a35c103-4ce7-4999-beb9-2f6cc0c9484e"
   },
   "outputs": [],
   "source": [
    "# # Merge oil and holidays on 'date'\n",
    "# oil_holidays = pd.merge(oil, holidays, on='date', how='outer')\n",
    "\n",
    "# # Perform a cross join between stores and oil_holidays\n",
    "# stores['key'] = 1\n",
    "# oil_holidays['key'] = 1\n",
    "\n",
    "# merged_df = pd.merge(stores, oil_holidays, on='key').drop('key', axis=1)"
   ]
  },
  {
   "cell_type": "code",
   "execution_count": 17,
   "id": "db8ceff2-2fb9-45f4-8c50-21fd0b05dba8",
   "metadata": {
    "colab": {
     "base_uri": "https://localhost:8080/",
     "height": 293
    },
    "executionInfo": {
     "elapsed": 58,
     "status": "ok",
     "timestamp": 1744191664911,
     "user": {
      "displayName": "Surya S B",
      "userId": "17741313183794657452"
     },
     "user_tz": -330
    },
    "id": "db8ceff2-2fb9-45f4-8c50-21fd0b05dba8",
    "outputId": "2aaf25bf-d848-47fa-a03c-e80950172f58"
   },
   "outputs": [
    {
     "data": {
      "text/html": [
       "<div>\n",
       "<style scoped>\n",
       "    .dataframe tbody tr th:only-of-type {\n",
       "        vertical-align: middle;\n",
       "    }\n",
       "\n",
       "    .dataframe tbody tr th {\n",
       "        vertical-align: top;\n",
       "    }\n",
       "\n",
       "    .dataframe thead th {\n",
       "        text-align: right;\n",
       "    }\n",
       "</style>\n",
       "<table border=\"1\" class=\"dataframe\">\n",
       "  <thead>\n",
       "    <tr style=\"text-align: right;\">\n",
       "      <th></th>\n",
       "      <th>id</th>\n",
       "      <th>date</th>\n",
       "      <th>store_nbr</th>\n",
       "      <th>family</th>\n",
       "      <th>sales</th>\n",
       "      <th>onpromotion</th>\n",
       "      <th>city</th>\n",
       "      <th>state</th>\n",
       "      <th>type_x</th>\n",
       "      <th>cluster</th>\n",
       "      <th>dcoilwtico</th>\n",
       "      <th>type_y</th>\n",
       "      <th>locale</th>\n",
       "      <th>locale_name</th>\n",
       "      <th>description</th>\n",
       "      <th>transferred</th>\n",
       "    </tr>\n",
       "  </thead>\n",
       "  <tbody>\n",
       "    <tr>\n",
       "      <th>0</th>\n",
       "      <td>0</td>\n",
       "      <td>2013-01-01</td>\n",
       "      <td>1</td>\n",
       "      <td>AUTOMOTIVE</td>\n",
       "      <td>0.0</td>\n",
       "      <td>0</td>\n",
       "      <td>Quito</td>\n",
       "      <td>Pichincha</td>\n",
       "      <td>D</td>\n",
       "      <td>13</td>\n",
       "      <td>NaN</td>\n",
       "      <td>Holiday</td>\n",
       "      <td>National</td>\n",
       "      <td>Ecuador</td>\n",
       "      <td>Primer dia del ano</td>\n",
       "      <td>False</td>\n",
       "    </tr>\n",
       "    <tr>\n",
       "      <th>1</th>\n",
       "      <td>1</td>\n",
       "      <td>2013-01-01</td>\n",
       "      <td>1</td>\n",
       "      <td>BABY CARE</td>\n",
       "      <td>0.0</td>\n",
       "      <td>0</td>\n",
       "      <td>Quito</td>\n",
       "      <td>Pichincha</td>\n",
       "      <td>D</td>\n",
       "      <td>13</td>\n",
       "      <td>NaN</td>\n",
       "      <td>Holiday</td>\n",
       "      <td>National</td>\n",
       "      <td>Ecuador</td>\n",
       "      <td>Primer dia del ano</td>\n",
       "      <td>False</td>\n",
       "    </tr>\n",
       "    <tr>\n",
       "      <th>2</th>\n",
       "      <td>2</td>\n",
       "      <td>2013-01-01</td>\n",
       "      <td>1</td>\n",
       "      <td>BEAUTY</td>\n",
       "      <td>0.0</td>\n",
       "      <td>0</td>\n",
       "      <td>Quito</td>\n",
       "      <td>Pichincha</td>\n",
       "      <td>D</td>\n",
       "      <td>13</td>\n",
       "      <td>NaN</td>\n",
       "      <td>Holiday</td>\n",
       "      <td>National</td>\n",
       "      <td>Ecuador</td>\n",
       "      <td>Primer dia del ano</td>\n",
       "      <td>False</td>\n",
       "    </tr>\n",
       "    <tr>\n",
       "      <th>3</th>\n",
       "      <td>3</td>\n",
       "      <td>2013-01-01</td>\n",
       "      <td>1</td>\n",
       "      <td>BEVERAGES</td>\n",
       "      <td>0.0</td>\n",
       "      <td>0</td>\n",
       "      <td>Quito</td>\n",
       "      <td>Pichincha</td>\n",
       "      <td>D</td>\n",
       "      <td>13</td>\n",
       "      <td>NaN</td>\n",
       "      <td>Holiday</td>\n",
       "      <td>National</td>\n",
       "      <td>Ecuador</td>\n",
       "      <td>Primer dia del ano</td>\n",
       "      <td>False</td>\n",
       "    </tr>\n",
       "    <tr>\n",
       "      <th>4</th>\n",
       "      <td>4</td>\n",
       "      <td>2013-01-01</td>\n",
       "      <td>1</td>\n",
       "      <td>BOOKS</td>\n",
       "      <td>0.0</td>\n",
       "      <td>0</td>\n",
       "      <td>Quito</td>\n",
       "      <td>Pichincha</td>\n",
       "      <td>D</td>\n",
       "      <td>13</td>\n",
       "      <td>NaN</td>\n",
       "      <td>Holiday</td>\n",
       "      <td>National</td>\n",
       "      <td>Ecuador</td>\n",
       "      <td>Primer dia del ano</td>\n",
       "      <td>False</td>\n",
       "    </tr>\n",
       "  </tbody>\n",
       "</table>\n",
       "</div>"
      ],
      "text/plain": [
       "   id       date  store_nbr      family  sales  onpromotion   city      state  \\\n",
       "0   0 2013-01-01          1  AUTOMOTIVE    0.0            0  Quito  Pichincha   \n",
       "1   1 2013-01-01          1   BABY CARE    0.0            0  Quito  Pichincha   \n",
       "2   2 2013-01-01          1      BEAUTY    0.0            0  Quito  Pichincha   \n",
       "3   3 2013-01-01          1   BEVERAGES    0.0            0  Quito  Pichincha   \n",
       "4   4 2013-01-01          1       BOOKS    0.0            0  Quito  Pichincha   \n",
       "\n",
       "  type_x  cluster  dcoilwtico   type_y    locale locale_name  \\\n",
       "0      D       13         NaN  Holiday  National     Ecuador   \n",
       "1      D       13         NaN  Holiday  National     Ecuador   \n",
       "2      D       13         NaN  Holiday  National     Ecuador   \n",
       "3      D       13         NaN  Holiday  National     Ecuador   \n",
       "4      D       13         NaN  Holiday  National     Ecuador   \n",
       "\n",
       "          description transferred  \n",
       "0  Primer dia del ano       False  \n",
       "1  Primer dia del ano       False  \n",
       "2  Primer dia del ano       False  \n",
       "3  Primer dia del ano       False  \n",
       "4  Primer dia del ano       False  "
      ]
     },
     "execution_count": 17,
     "metadata": {},
     "output_type": "execute_result"
    }
   ],
   "source": [
    "merged_df.head(5)"
   ]
  },
  {
   "cell_type": "code",
   "execution_count": 18,
   "id": "700b8393-dfa7-4245-b552-fe6ee941f51a",
   "metadata": {
    "executionInfo": {
     "elapsed": 3695,
     "status": "ok",
     "timestamp": 1744191668607,
     "user": {
      "displayName": "Surya S B",
      "userId": "17741313183794657452"
     },
     "user_tz": -330
    },
    "id": "700b8393-dfa7-4245-b552-fe6ee941f51a"
   },
   "outputs": [],
   "source": [
    "# Add a column to flag if the holiday is relevant for that store\n",
    "merged_df['is_relevant_holiday'] = (\n",
    "    ((merged_df['locale'] == 'National')) |\n",
    "    ((merged_df['locale'] == 'Regional') & (merged_df['state'] == merged_df['locale_name'])) |\n",
    "    ((merged_df['locale'] == 'Local') & (merged_df['city'] == merged_df['locale_name']))\n",
    ")"
   ]
  },
  {
   "cell_type": "code",
   "execution_count": 19,
   "id": "75f5ac63-5629-4bc8-9248-ef55d117d306",
   "metadata": {
    "executionInfo": {
     "elapsed": 5164,
     "status": "ok",
     "timestamp": 1744191673773,
     "user": {
      "displayName": "Surya S B",
      "userId": "17741313183794657452"
     },
     "user_tz": -330
    },
    "id": "75f5ac63-5629-4bc8-9248-ef55d117d306"
   },
   "outputs": [],
   "source": [
    "df = merged_df.copy()"
   ]
  },
  {
   "cell_type": "markdown",
   "id": "CdigpTl640ek",
   "metadata": {
    "id": "CdigpTl640ek"
   },
   "source": [
    "2. Feature Engineering\n",
    "Date-related features have been extracted from the 'date' column to support time-based analysis and modeling:\n",
    "\n",
    "'day': Day of the month.\n",
    "'week': ISO week number of the year.\n",
    "'month': Month of the year.\n",
    "'year': Year component.\n",
    "'day_of_week': Day of the week (0 = Monday, 6 = Sunday).\n",
    "These features help capture seasonal patterns and trends in the data."
   ]
  },
  {
   "cell_type": "code",
   "execution_count": 20,
   "id": "88398661-e4a5-4d4b-aa96-ceeb2b2f8b14",
   "metadata": {
    "executionInfo": {
     "elapsed": 4356,
     "status": "ok",
     "timestamp": 1744191678132,
     "user": {
      "displayName": "Surya S B",
      "userId": "17741313183794657452"
     },
     "user_tz": -330
    },
    "id": "88398661-e4a5-4d4b-aa96-ceeb2b2f8b14"
   },
   "outputs": [],
   "source": [
    "# Extract standard time features\n",
    "df['day'] = df['date'].dt.day\n",
    "df['week'] = df['date'].dt.isocalendar().week.astype(int)\n",
    "df['month'] = df['date'].dt.month\n",
    "df['year'] = df['date'].dt.year\n",
    "# df['day_of_week'] = df['date'].dt.dayofweek  # Monday=0, Tuesday=1,.... Saturday=5, Sunday=6\n",
    "\n",
    "# we have done Sunday=1, Monday=2, Tuesday=3 .. till Saturday=7\n",
    "df['day_of_week'] = ((df['date'].dt.dayofweek + 1) % 7) + 1\n",
    "df['is_weekend'] = df['day_of_week'].isin([5, 6]).astype(int)  # 1 if Sat/Sun, else 0\n",
    "df['weekday_name'] = df['date'].dt.day_name()"
   ]
  },
  {
   "cell_type": "code",
   "execution_count": 21,
   "id": "Tdy_yvGnkiA_",
   "metadata": {
    "executionInfo": {
     "elapsed": 3,
     "status": "ok",
     "timestamp": 1744191678137,
     "user": {
      "displayName": "Surya S B",
      "userId": "17741313183794657452"
     },
     "user_tz": -330
    },
    "id": "Tdy_yvGnkiA_"
   },
   "outputs": [],
   "source": [
    "# Show all columns\n",
    "pd.set_option('display.max_columns', None)\n",
    "\n",
    "# Optional: Show all rows (be cautious with large dataframes)\n",
    "pd.set_option('display.max_rows', None)\n",
    "\n",
    "# Optional: Prevent dataframe from being truncated in width\n",
    "pd.set_option('display.width', None)\n",
    "\n",
    "# Optional: Allow wrapping long values in a cell\n",
    "pd.set_option('display.max_colwidth', None)"
   ]
  },
  {
   "cell_type": "markdown",
   "id": "9j2hxaDt4HIO",
   "metadata": {
    "id": "9j2hxaDt4HIO"
   },
   "source": [
    "# 1.Data Cleaning\n",
    "# Filling Missing Oil Prices"
   ]
  },
  {
   "cell_type": "code",
   "execution_count": 22,
   "id": "4be5acb1-180f-4455-ab2b-c46810ca74fa",
   "metadata": {
    "colab": {
     "base_uri": "https://localhost:8080/",
     "height": 313
    },
    "executionInfo": {
     "elapsed": 22,
     "status": "ok",
     "timestamp": 1744191678172,
     "user": {
      "displayName": "Surya S B",
      "userId": "17741313183794657452"
     },
     "user_tz": -330
    },
    "id": "4be5acb1-180f-4455-ab2b-c46810ca74fa",
    "outputId": "040efc34-39f3-4bb3-bcdc-5204fae44490"
   },
   "outputs": [
    {
     "data": {
      "text/html": [
       "<div>\n",
       "<style scoped>\n",
       "    .dataframe tbody tr th:only-of-type {\n",
       "        vertical-align: middle;\n",
       "    }\n",
       "\n",
       "    .dataframe tbody tr th {\n",
       "        vertical-align: top;\n",
       "    }\n",
       "\n",
       "    .dataframe thead th {\n",
       "        text-align: right;\n",
       "    }\n",
       "</style>\n",
       "<table border=\"1\" class=\"dataframe\">\n",
       "  <thead>\n",
       "    <tr style=\"text-align: right;\">\n",
       "      <th></th>\n",
       "      <th>id</th>\n",
       "      <th>date</th>\n",
       "      <th>store_nbr</th>\n",
       "      <th>family</th>\n",
       "      <th>sales</th>\n",
       "      <th>onpromotion</th>\n",
       "      <th>city</th>\n",
       "      <th>state</th>\n",
       "      <th>type_x</th>\n",
       "      <th>cluster</th>\n",
       "      <th>dcoilwtico</th>\n",
       "      <th>type_y</th>\n",
       "      <th>locale</th>\n",
       "      <th>locale_name</th>\n",
       "      <th>description</th>\n",
       "      <th>transferred</th>\n",
       "      <th>is_relevant_holiday</th>\n",
       "      <th>day</th>\n",
       "      <th>week</th>\n",
       "      <th>month</th>\n",
       "      <th>year</th>\n",
       "      <th>day_of_week</th>\n",
       "      <th>is_weekend</th>\n",
       "      <th>weekday_name</th>\n",
       "    </tr>\n",
       "  </thead>\n",
       "  <tbody>\n",
       "    <tr>\n",
       "      <th>0</th>\n",
       "      <td>0</td>\n",
       "      <td>2013-01-01</td>\n",
       "      <td>1</td>\n",
       "      <td>AUTOMOTIVE</td>\n",
       "      <td>0.0</td>\n",
       "      <td>0</td>\n",
       "      <td>Quito</td>\n",
       "      <td>Pichincha</td>\n",
       "      <td>D</td>\n",
       "      <td>13</td>\n",
       "      <td>NaN</td>\n",
       "      <td>Holiday</td>\n",
       "      <td>National</td>\n",
       "      <td>Ecuador</td>\n",
       "      <td>Primer dia del ano</td>\n",
       "      <td>False</td>\n",
       "      <td>True</td>\n",
       "      <td>1</td>\n",
       "      <td>1</td>\n",
       "      <td>1</td>\n",
       "      <td>2013</td>\n",
       "      <td>3</td>\n",
       "      <td>0</td>\n",
       "      <td>Tuesday</td>\n",
       "    </tr>\n",
       "    <tr>\n",
       "      <th>1</th>\n",
       "      <td>1</td>\n",
       "      <td>2013-01-01</td>\n",
       "      <td>1</td>\n",
       "      <td>BABY CARE</td>\n",
       "      <td>0.0</td>\n",
       "      <td>0</td>\n",
       "      <td>Quito</td>\n",
       "      <td>Pichincha</td>\n",
       "      <td>D</td>\n",
       "      <td>13</td>\n",
       "      <td>NaN</td>\n",
       "      <td>Holiday</td>\n",
       "      <td>National</td>\n",
       "      <td>Ecuador</td>\n",
       "      <td>Primer dia del ano</td>\n",
       "      <td>False</td>\n",
       "      <td>True</td>\n",
       "      <td>1</td>\n",
       "      <td>1</td>\n",
       "      <td>1</td>\n",
       "      <td>2013</td>\n",
       "      <td>3</td>\n",
       "      <td>0</td>\n",
       "      <td>Tuesday</td>\n",
       "    </tr>\n",
       "    <tr>\n",
       "      <th>2</th>\n",
       "      <td>2</td>\n",
       "      <td>2013-01-01</td>\n",
       "      <td>1</td>\n",
       "      <td>BEAUTY</td>\n",
       "      <td>0.0</td>\n",
       "      <td>0</td>\n",
       "      <td>Quito</td>\n",
       "      <td>Pichincha</td>\n",
       "      <td>D</td>\n",
       "      <td>13</td>\n",
       "      <td>NaN</td>\n",
       "      <td>Holiday</td>\n",
       "      <td>National</td>\n",
       "      <td>Ecuador</td>\n",
       "      <td>Primer dia del ano</td>\n",
       "      <td>False</td>\n",
       "      <td>True</td>\n",
       "      <td>1</td>\n",
       "      <td>1</td>\n",
       "      <td>1</td>\n",
       "      <td>2013</td>\n",
       "      <td>3</td>\n",
       "      <td>0</td>\n",
       "      <td>Tuesday</td>\n",
       "    </tr>\n",
       "    <tr>\n",
       "      <th>3</th>\n",
       "      <td>3</td>\n",
       "      <td>2013-01-01</td>\n",
       "      <td>1</td>\n",
       "      <td>BEVERAGES</td>\n",
       "      <td>0.0</td>\n",
       "      <td>0</td>\n",
       "      <td>Quito</td>\n",
       "      <td>Pichincha</td>\n",
       "      <td>D</td>\n",
       "      <td>13</td>\n",
       "      <td>NaN</td>\n",
       "      <td>Holiday</td>\n",
       "      <td>National</td>\n",
       "      <td>Ecuador</td>\n",
       "      <td>Primer dia del ano</td>\n",
       "      <td>False</td>\n",
       "      <td>True</td>\n",
       "      <td>1</td>\n",
       "      <td>1</td>\n",
       "      <td>1</td>\n",
       "      <td>2013</td>\n",
       "      <td>3</td>\n",
       "      <td>0</td>\n",
       "      <td>Tuesday</td>\n",
       "    </tr>\n",
       "    <tr>\n",
       "      <th>4</th>\n",
       "      <td>4</td>\n",
       "      <td>2013-01-01</td>\n",
       "      <td>1</td>\n",
       "      <td>BOOKS</td>\n",
       "      <td>0.0</td>\n",
       "      <td>0</td>\n",
       "      <td>Quito</td>\n",
       "      <td>Pichincha</td>\n",
       "      <td>D</td>\n",
       "      <td>13</td>\n",
       "      <td>NaN</td>\n",
       "      <td>Holiday</td>\n",
       "      <td>National</td>\n",
       "      <td>Ecuador</td>\n",
       "      <td>Primer dia del ano</td>\n",
       "      <td>False</td>\n",
       "      <td>True</td>\n",
       "      <td>1</td>\n",
       "      <td>1</td>\n",
       "      <td>1</td>\n",
       "      <td>2013</td>\n",
       "      <td>3</td>\n",
       "      <td>0</td>\n",
       "      <td>Tuesday</td>\n",
       "    </tr>\n",
       "  </tbody>\n",
       "</table>\n",
       "</div>"
      ],
      "text/plain": [
       "   id       date  store_nbr      family  sales  onpromotion   city      state  \\\n",
       "0   0 2013-01-01          1  AUTOMOTIVE    0.0            0  Quito  Pichincha   \n",
       "1   1 2013-01-01          1   BABY CARE    0.0            0  Quito  Pichincha   \n",
       "2   2 2013-01-01          1      BEAUTY    0.0            0  Quito  Pichincha   \n",
       "3   3 2013-01-01          1   BEVERAGES    0.0            0  Quito  Pichincha   \n",
       "4   4 2013-01-01          1       BOOKS    0.0            0  Quito  Pichincha   \n",
       "\n",
       "  type_x  cluster  dcoilwtico   type_y    locale locale_name  \\\n",
       "0      D       13         NaN  Holiday  National     Ecuador   \n",
       "1      D       13         NaN  Holiday  National     Ecuador   \n",
       "2      D       13         NaN  Holiday  National     Ecuador   \n",
       "3      D       13         NaN  Holiday  National     Ecuador   \n",
       "4      D       13         NaN  Holiday  National     Ecuador   \n",
       "\n",
       "          description transferred  is_relevant_holiday  day  week  month  \\\n",
       "0  Primer dia del ano       False                 True    1     1      1   \n",
       "1  Primer dia del ano       False                 True    1     1      1   \n",
       "2  Primer dia del ano       False                 True    1     1      1   \n",
       "3  Primer dia del ano       False                 True    1     1      1   \n",
       "4  Primer dia del ano       False                 True    1     1      1   \n",
       "\n",
       "   year  day_of_week  is_weekend weekday_name  \n",
       "0  2013            3           0      Tuesday  \n",
       "1  2013            3           0      Tuesday  \n",
       "2  2013            3           0      Tuesday  \n",
       "3  2013            3           0      Tuesday  \n",
       "4  2013            3           0      Tuesday  "
      ]
     },
     "execution_count": 22,
     "metadata": {},
     "output_type": "execute_result"
    }
   ],
   "source": [
    "df.head(5)"
   ]
  },
  {
   "cell_type": "code",
   "execution_count": 23,
   "id": "c40ab837-5ab7-4b94-985d-6da5e9d7b0d3",
   "metadata": {
    "colab": {
     "base_uri": "https://localhost:8080/"
    },
    "executionInfo": {
     "elapsed": 58,
     "status": "ok",
     "timestamp": 1744191678235,
     "user": {
      "displayName": "Surya S B",
      "userId": "17741313183794657452"
     },
     "user_tz": -330
    },
    "id": "c40ab837-5ab7-4b94-985d-6da5e9d7b0d3",
    "outputId": "382a8c9c-9a00-4bc8-9e6d-2356bb638694"
   },
   "outputs": [
    {
     "data": {
      "text/plain": [
       "array([  nan, 93.14, 92.97, ..., 48.81, 47.59, 47.57])"
      ]
     },
     "execution_count": 23,
     "metadata": {},
     "output_type": "execute_result"
    }
   ],
   "source": [
    "df['dcoilwtico'].unique()"
   ]
  },
  {
   "cell_type": "code",
   "execution_count": 24,
   "id": "30bb4858-d05a-4836-b777-92f4813d2622",
   "metadata": {
    "colab": {
     "base_uri": "https://localhost:8080/",
     "height": 1000
    },
    "executionInfo": {
     "elapsed": 231,
     "status": "ok",
     "timestamp": 1744191678465,
     "user": {
      "displayName": "Surya S B",
      "userId": "17741313183794657452"
     },
     "user_tz": -330
    },
    "id": "30bb4858-d05a-4836-b777-92f4813d2622",
    "outputId": "a3de8efc-9b87-4f30-da73-45f995f7b77c"
   },
   "outputs": [],
   "source": [
    "#df['dcoilwtico'].value_counts()"
   ]
  },
  {
   "cell_type": "code",
   "execution_count": 25,
   "id": "0c0fdc58-58df-4100-8775-1d645b0e5172",
   "metadata": {
    "colab": {
     "base_uri": "https://localhost:8080/",
     "height": 836
    },
    "executionInfo": {
     "elapsed": 2870,
     "status": "ok",
     "timestamp": 1744191681337,
     "user": {
      "displayName": "Surya S B",
      "userId": "17741313183794657452"
     },
     "user_tz": -330
    },
    "id": "0c0fdc58-58df-4100-8775-1d645b0e5172",
    "outputId": "5a55d2b0-7dee-4d3c-f6dd-04f89b0bb8ca"
   },
   "outputs": [
    {
     "data": {
      "text/plain": [
       "id                           0\n",
       "date                         0\n",
       "store_nbr                    0\n",
       "family                       0\n",
       "sales                        0\n",
       "onpromotion                  0\n",
       "city                         0\n",
       "state                        0\n",
       "type_x                       0\n",
       "cluster                      0\n",
       "dcoilwtico              880308\n",
       "type_y                 2551824\n",
       "locale                 2551824\n",
       "locale_name            2551824\n",
       "description            2551824\n",
       "transferred            2551824\n",
       "is_relevant_holiday          0\n",
       "day                          0\n",
       "week                         0\n",
       "month                        0\n",
       "year                         0\n",
       "day_of_week                  0\n",
       "is_weekend                   0\n",
       "weekday_name                 0\n",
       "dtype: int64"
      ]
     },
     "execution_count": 25,
     "metadata": {},
     "output_type": "execute_result"
    }
   ],
   "source": [
    "df.isnull().sum()"
   ]
  },
  {
   "cell_type": "code",
   "execution_count": 26,
   "id": "052fddfb-e455-4760-ab62-d8c46ada97a0",
   "metadata": {
    "executionInfo": {
     "elapsed": 701,
     "status": "ok",
     "timestamp": 1744191682037,
     "user": {
      "displayName": "Surya S B",
      "userId": "17741313183794657452"
     },
     "user_tz": -330
    },
    "id": "052fddfb-e455-4760-ab62-d8c46ada97a0"
   },
   "outputs": [],
   "source": [
    "df['dcoilwtico'] = df['dcoilwtico'].interpolate(method='linear', limit_direction='both')"
   ]
  },
  {
   "cell_type": "code",
   "execution_count": 27,
   "id": "yS_UDcpHsDhn",
   "metadata": {
    "colab": {
     "base_uri": "https://localhost:8080/",
     "height": 836
    },
    "executionInfo": {
     "elapsed": 2569,
     "status": "ok",
     "timestamp": 1744191684605,
     "user": {
      "displayName": "Surya S B",
      "userId": "17741313183794657452"
     },
     "user_tz": -330
    },
    "id": "yS_UDcpHsDhn",
    "outputId": "e2bf7f63-ca81-4912-a2c4-20947f03ef91"
   },
   "outputs": [
    {
     "data": {
      "text/plain": [
       "id                           0\n",
       "date                         0\n",
       "store_nbr                    0\n",
       "family                       0\n",
       "sales                        0\n",
       "onpromotion                  0\n",
       "city                         0\n",
       "state                        0\n",
       "type_x                       0\n",
       "cluster                      0\n",
       "dcoilwtico                   0\n",
       "type_y                 2551824\n",
       "locale                 2551824\n",
       "locale_name            2551824\n",
       "description            2551824\n",
       "transferred            2551824\n",
       "is_relevant_holiday          0\n",
       "day                          0\n",
       "week                         0\n",
       "month                        0\n",
       "year                         0\n",
       "day_of_week                  0\n",
       "is_weekend                   0\n",
       "weekday_name                 0\n",
       "dtype: int64"
      ]
     },
     "execution_count": 27,
     "metadata": {},
     "output_type": "execute_result"
    }
   ],
   "source": [
    "df.isnull().sum()"
   ]
  },
  {
   "cell_type": "code",
   "execution_count": 28,
   "id": "qc_Do_rwFmfE",
   "metadata": {
    "colab": {
     "base_uri": "https://localhost:8080/"
    },
    "executionInfo": {
     "elapsed": 39,
     "status": "ok",
     "timestamp": 1744191684674,
     "user": {
      "displayName": "Surya S B",
      "userId": "17741313183794657452"
     },
     "user_tz": -330
    },
    "id": "qc_Do_rwFmfE",
    "outputId": "87611015-04d7-4147-ecf7-9dd6dea9d4f8"
   },
   "outputs": [
    {
     "data": {
      "text/plain": [
       "(3054348, 24)"
      ]
     },
     "execution_count": 28,
     "metadata": {},
     "output_type": "execute_result"
    }
   ],
   "source": [
    "df.shape"
   ]
  },
  {
   "cell_type": "markdown",
   "id": "1yN1cojBF0fC",
   "metadata": {
    "id": "1yN1cojBF0fC"
   },
   "source": [
    "# Seems like the columns, locale, type_y, locale_name, description, transferred are not significant to the analysis so we are droping those columns\n"
   ]
  },
  {
   "cell_type": "code",
   "execution_count": 29,
   "id": "lspdxGsavLdy",
   "metadata": {
    "colab": {
     "base_uri": "https://localhost:8080/"
    },
    "executionInfo": {
     "elapsed": 36,
     "status": "ok",
     "timestamp": 1744191684729,
     "user": {
      "displayName": "Surya S B",
      "userId": "17741313183794657452"
     },
     "user_tz": -330
    },
    "id": "lspdxGsavLdy",
    "outputId": "237885af-90c4-406c-cbf1-4a35089af9b5"
   },
   "outputs": [
    {
     "name": "stdout",
     "output_type": "stream",
     "text": [
      "<class 'pandas.core.frame.DataFrame'>\n",
      "RangeIndex: 3054348 entries, 0 to 3054347\n",
      "Data columns (total 24 columns):\n",
      " #   Column               Dtype         \n",
      "---  ------               -----         \n",
      " 0   id                   int64         \n",
      " 1   date                 datetime64[ns]\n",
      " 2   store_nbr            int64         \n",
      " 3   family               object        \n",
      " 4   sales                float64       \n",
      " 5   onpromotion          int64         \n",
      " 6   city                 object        \n",
      " 7   state                object        \n",
      " 8   type_x               object        \n",
      " 9   cluster              int64         \n",
      " 10  dcoilwtico           float64       \n",
      " 11  type_y               object        \n",
      " 12  locale               object        \n",
      " 13  locale_name          object        \n",
      " 14  description          object        \n",
      " 15  transferred          object        \n",
      " 16  is_relevant_holiday  bool          \n",
      " 17  day                  int32         \n",
      " 18  week                 int32         \n",
      " 19  month                int32         \n",
      " 20  year                 int32         \n",
      " 21  day_of_week          int32         \n",
      " 22  is_weekend           int32         \n",
      " 23  weekday_name         object        \n",
      "dtypes: bool(1), datetime64[ns](1), float64(2), int32(6), int64(4), object(10)\n",
      "memory usage: 469.0+ MB\n"
     ]
    }
   ],
   "source": [
    "df.info()"
   ]
  },
  {
   "cell_type": "code",
   "execution_count": 30,
   "id": "e01AK1fuoYS0",
   "metadata": {
    "colab": {
     "base_uri": "https://localhost:8080/",
     "height": 836
    },
    "executionInfo": {
     "elapsed": 4841,
     "status": "ok",
     "timestamp": 1744191689571,
     "user": {
      "displayName": "Surya S B",
      "userId": "17741313183794657452"
     },
     "user_tz": -330
    },
    "id": "e01AK1fuoYS0",
    "outputId": "dfe4d8d9-eba8-41e1-dad1-76aaea916f30"
   },
   "outputs": [
    {
     "data": {
      "text/plain": [
       "id                           0\n",
       "date                         0\n",
       "store_nbr                    0\n",
       "family                       0\n",
       "sales                        0\n",
       "onpromotion                  0\n",
       "city                         0\n",
       "state                        0\n",
       "type_x                       0\n",
       "cluster                      0\n",
       "dcoilwtico                   0\n",
       "type_y                 2551824\n",
       "locale                 2551824\n",
       "locale_name            2551824\n",
       "description            2551824\n",
       "transferred            2551824\n",
       "is_relevant_holiday          0\n",
       "day                          0\n",
       "week                         0\n",
       "month                        0\n",
       "year                         0\n",
       "day_of_week                  0\n",
       "is_weekend                   0\n",
       "weekday_name                 0\n",
       "dtype: int64"
      ]
     },
     "execution_count": 30,
     "metadata": {},
     "output_type": "execute_result"
    }
   ],
   "source": [
    "df.isnull().sum()"
   ]
  },
  {
   "cell_type": "code",
   "execution_count": 31,
   "id": "YDp26zJhFWEF",
   "metadata": {
    "executionInfo": {
     "elapsed": 347,
     "status": "ok",
     "timestamp": 1744191689915,
     "user": {
      "displayName": "Surya S B",
      "userId": "17741313183794657452"
     },
     "user_tz": -330
    },
    "id": "YDp26zJhFWEF"
   },
   "outputs": [],
   "source": [
    "df = df.drop(['locale', 'type_y', 'locale_name', 'description', 'transferred'], axis=1)"
   ]
  },
  {
   "cell_type": "code",
   "execution_count": 32,
   "id": "-eU669JuGbmP",
   "metadata": {
    "colab": {
     "base_uri": "https://localhost:8080/",
     "height": 313
    },
    "executionInfo": {
     "elapsed": 36,
     "status": "ok",
     "timestamp": 1744191689952,
     "user": {
      "displayName": "Surya S B",
      "userId": "17741313183794657452"
     },
     "user_tz": -330
    },
    "id": "-eU669JuGbmP",
    "outputId": "7ebdf0a2-ccee-407d-d9aa-92476957236e"
   },
   "outputs": [
    {
     "data": {
      "text/html": [
       "<div>\n",
       "<style scoped>\n",
       "    .dataframe tbody tr th:only-of-type {\n",
       "        vertical-align: middle;\n",
       "    }\n",
       "\n",
       "    .dataframe tbody tr th {\n",
       "        vertical-align: top;\n",
       "    }\n",
       "\n",
       "    .dataframe thead th {\n",
       "        text-align: right;\n",
       "    }\n",
       "</style>\n",
       "<table border=\"1\" class=\"dataframe\">\n",
       "  <thead>\n",
       "    <tr style=\"text-align: right;\">\n",
       "      <th></th>\n",
       "      <th>id</th>\n",
       "      <th>date</th>\n",
       "      <th>store_nbr</th>\n",
       "      <th>family</th>\n",
       "      <th>sales</th>\n",
       "      <th>onpromotion</th>\n",
       "      <th>city</th>\n",
       "      <th>state</th>\n",
       "      <th>type_x</th>\n",
       "      <th>cluster</th>\n",
       "      <th>dcoilwtico</th>\n",
       "      <th>is_relevant_holiday</th>\n",
       "      <th>day</th>\n",
       "      <th>week</th>\n",
       "      <th>month</th>\n",
       "      <th>year</th>\n",
       "      <th>day_of_week</th>\n",
       "      <th>is_weekend</th>\n",
       "      <th>weekday_name</th>\n",
       "    </tr>\n",
       "  </thead>\n",
       "  <tbody>\n",
       "    <tr>\n",
       "      <th>0</th>\n",
       "      <td>0</td>\n",
       "      <td>2013-01-01</td>\n",
       "      <td>1</td>\n",
       "      <td>AUTOMOTIVE</td>\n",
       "      <td>0.0</td>\n",
       "      <td>0</td>\n",
       "      <td>Quito</td>\n",
       "      <td>Pichincha</td>\n",
       "      <td>D</td>\n",
       "      <td>13</td>\n",
       "      <td>93.14</td>\n",
       "      <td>True</td>\n",
       "      <td>1</td>\n",
       "      <td>1</td>\n",
       "      <td>1</td>\n",
       "      <td>2013</td>\n",
       "      <td>3</td>\n",
       "      <td>0</td>\n",
       "      <td>Tuesday</td>\n",
       "    </tr>\n",
       "    <tr>\n",
       "      <th>1</th>\n",
       "      <td>1</td>\n",
       "      <td>2013-01-01</td>\n",
       "      <td>1</td>\n",
       "      <td>BABY CARE</td>\n",
       "      <td>0.0</td>\n",
       "      <td>0</td>\n",
       "      <td>Quito</td>\n",
       "      <td>Pichincha</td>\n",
       "      <td>D</td>\n",
       "      <td>13</td>\n",
       "      <td>93.14</td>\n",
       "      <td>True</td>\n",
       "      <td>1</td>\n",
       "      <td>1</td>\n",
       "      <td>1</td>\n",
       "      <td>2013</td>\n",
       "      <td>3</td>\n",
       "      <td>0</td>\n",
       "      <td>Tuesday</td>\n",
       "    </tr>\n",
       "    <tr>\n",
       "      <th>2</th>\n",
       "      <td>2</td>\n",
       "      <td>2013-01-01</td>\n",
       "      <td>1</td>\n",
       "      <td>BEAUTY</td>\n",
       "      <td>0.0</td>\n",
       "      <td>0</td>\n",
       "      <td>Quito</td>\n",
       "      <td>Pichincha</td>\n",
       "      <td>D</td>\n",
       "      <td>13</td>\n",
       "      <td>93.14</td>\n",
       "      <td>True</td>\n",
       "      <td>1</td>\n",
       "      <td>1</td>\n",
       "      <td>1</td>\n",
       "      <td>2013</td>\n",
       "      <td>3</td>\n",
       "      <td>0</td>\n",
       "      <td>Tuesday</td>\n",
       "    </tr>\n",
       "    <tr>\n",
       "      <th>3</th>\n",
       "      <td>3</td>\n",
       "      <td>2013-01-01</td>\n",
       "      <td>1</td>\n",
       "      <td>BEVERAGES</td>\n",
       "      <td>0.0</td>\n",
       "      <td>0</td>\n",
       "      <td>Quito</td>\n",
       "      <td>Pichincha</td>\n",
       "      <td>D</td>\n",
       "      <td>13</td>\n",
       "      <td>93.14</td>\n",
       "      <td>True</td>\n",
       "      <td>1</td>\n",
       "      <td>1</td>\n",
       "      <td>1</td>\n",
       "      <td>2013</td>\n",
       "      <td>3</td>\n",
       "      <td>0</td>\n",
       "      <td>Tuesday</td>\n",
       "    </tr>\n",
       "    <tr>\n",
       "      <th>4</th>\n",
       "      <td>4</td>\n",
       "      <td>2013-01-01</td>\n",
       "      <td>1</td>\n",
       "      <td>BOOKS</td>\n",
       "      <td>0.0</td>\n",
       "      <td>0</td>\n",
       "      <td>Quito</td>\n",
       "      <td>Pichincha</td>\n",
       "      <td>D</td>\n",
       "      <td>13</td>\n",
       "      <td>93.14</td>\n",
       "      <td>True</td>\n",
       "      <td>1</td>\n",
       "      <td>1</td>\n",
       "      <td>1</td>\n",
       "      <td>2013</td>\n",
       "      <td>3</td>\n",
       "      <td>0</td>\n",
       "      <td>Tuesday</td>\n",
       "    </tr>\n",
       "  </tbody>\n",
       "</table>\n",
       "</div>"
      ],
      "text/plain": [
       "   id       date  store_nbr      family  sales  onpromotion   city      state  \\\n",
       "0   0 2013-01-01          1  AUTOMOTIVE    0.0            0  Quito  Pichincha   \n",
       "1   1 2013-01-01          1   BABY CARE    0.0            0  Quito  Pichincha   \n",
       "2   2 2013-01-01          1      BEAUTY    0.0            0  Quito  Pichincha   \n",
       "3   3 2013-01-01          1   BEVERAGES    0.0            0  Quito  Pichincha   \n",
       "4   4 2013-01-01          1       BOOKS    0.0            0  Quito  Pichincha   \n",
       "\n",
       "  type_x  cluster  dcoilwtico  is_relevant_holiday  day  week  month  year  \\\n",
       "0      D       13       93.14                 True    1     1      1  2013   \n",
       "1      D       13       93.14                 True    1     1      1  2013   \n",
       "2      D       13       93.14                 True    1     1      1  2013   \n",
       "3      D       13       93.14                 True    1     1      1  2013   \n",
       "4      D       13       93.14                 True    1     1      1  2013   \n",
       "\n",
       "   day_of_week  is_weekend weekday_name  \n",
       "0            3           0      Tuesday  \n",
       "1            3           0      Tuesday  \n",
       "2            3           0      Tuesday  \n",
       "3            3           0      Tuesday  \n",
       "4            3           0      Tuesday  "
      ]
     },
     "execution_count": 32,
     "metadata": {},
     "output_type": "execute_result"
    }
   ],
   "source": [
    "df.head()"
   ]
  },
  {
   "cell_type": "code",
   "execution_count": 33,
   "id": "hZXHtktZHHc2",
   "metadata": {
    "executionInfo": {
     "elapsed": 257,
     "status": "ok",
     "timestamp": 1744191690211,
     "user": {
      "displayName": "Surya S B",
      "userId": "17741313183794657452"
     },
     "user_tz": -330
    },
    "id": "hZXHtktZHHc2"
   },
   "outputs": [],
   "source": [
    "df['month_year'] = df['date'].dt.to_period('M')\n",
    "\n",
    "# Group by month_year and sum sales\n",
    "monthly_sales = df.groupby('month_year')['sales'].sum().reset_index()\n",
    "monthly_sales['month_year'] = monthly_sales['month_year'].dt.to_timestamp()"
   ]
  },
  {
   "cell_type": "code",
   "execution_count": 34,
   "id": "zJ6CDE6GglkF",
   "metadata": {
    "colab": {
     "base_uri": "https://localhost:8080/",
     "height": 1000
    },
    "executionInfo": {
     "elapsed": 22,
     "status": "ok",
     "timestamp": 1744191690236,
     "user": {
      "displayName": "Surya S B",
      "userId": "17741313183794657452"
     },
     "user_tz": -330
    },
    "id": "zJ6CDE6GglkF",
    "outputId": "f6d5c5d5-0b3f-4082-e84b-f312ff9bae66"
   },
   "outputs": [
    {
     "data": {
      "text/html": [
       "<div>\n",
       "<style scoped>\n",
       "    .dataframe tbody tr th:only-of-type {\n",
       "        vertical-align: middle;\n",
       "    }\n",
       "\n",
       "    .dataframe tbody tr th {\n",
       "        vertical-align: top;\n",
       "    }\n",
       "\n",
       "    .dataframe thead th {\n",
       "        text-align: right;\n",
       "    }\n",
       "</style>\n",
       "<table border=\"1\" class=\"dataframe\">\n",
       "  <thead>\n",
       "    <tr style=\"text-align: right;\">\n",
       "      <th></th>\n",
       "      <th>month_year</th>\n",
       "      <th>sales</th>\n",
       "    </tr>\n",
       "  </thead>\n",
       "  <tbody>\n",
       "    <tr>\n",
       "      <th>0</th>\n",
       "      <td>2013-01-01</td>\n",
       "      <td>1.032762e+07</td>\n",
       "    </tr>\n",
       "    <tr>\n",
       "      <th>1</th>\n",
       "      <td>2013-02-01</td>\n",
       "      <td>9.658960e+06</td>\n",
       "    </tr>\n",
       "    <tr>\n",
       "      <th>2</th>\n",
       "      <td>2013-03-01</td>\n",
       "      <td>1.142850e+07</td>\n",
       "    </tr>\n",
       "    <tr>\n",
       "      <th>3</th>\n",
       "      <td>2013-04-01</td>\n",
       "      <td>1.099346e+07</td>\n",
       "    </tr>\n",
       "    <tr>\n",
       "      <th>4</th>\n",
       "      <td>2013-05-01</td>\n",
       "      <td>1.198556e+07</td>\n",
       "    </tr>\n",
       "    <tr>\n",
       "      <th>5</th>\n",
       "      <td>2013-06-01</td>\n",
       "      <td>1.229958e+07</td>\n",
       "    </tr>\n",
       "    <tr>\n",
       "      <th>6</th>\n",
       "      <td>2013-07-01</td>\n",
       "      <td>1.163195e+07</td>\n",
       "    </tr>\n",
       "    <tr>\n",
       "      <th>7</th>\n",
       "      <td>2013-08-01</td>\n",
       "      <td>1.173779e+07</td>\n",
       "    </tr>\n",
       "    <tr>\n",
       "      <th>8</th>\n",
       "      <td>2013-09-01</td>\n",
       "      <td>1.179293e+07</td>\n",
       "    </tr>\n",
       "    <tr>\n",
       "      <th>9</th>\n",
       "      <td>2013-10-01</td>\n",
       "      <td>1.177562e+07</td>\n",
       "    </tr>\n",
       "    <tr>\n",
       "      <th>10</th>\n",
       "      <td>2013-11-01</td>\n",
       "      <td>1.235656e+07</td>\n",
       "    </tr>\n",
       "    <tr>\n",
       "      <th>11</th>\n",
       "      <td>2013-12-01</td>\n",
       "      <td>1.649941e+07</td>\n",
       "    </tr>\n",
       "    <tr>\n",
       "      <th>12</th>\n",
       "      <td>2014-01-01</td>\n",
       "      <td>1.891164e+07</td>\n",
       "    </tr>\n",
       "    <tr>\n",
       "      <th>13</th>\n",
       "      <td>2014-02-01</td>\n",
       "      <td>1.203835e+07</td>\n",
       "    </tr>\n",
       "    <tr>\n",
       "      <th>14</th>\n",
       "      <td>2014-03-01</td>\n",
       "      <td>2.036558e+07</td>\n",
       "    </tr>\n",
       "    <tr>\n",
       "      <th>15</th>\n",
       "      <td>2014-04-01</td>\n",
       "      <td>1.286125e+07</td>\n",
       "    </tr>\n",
       "    <tr>\n",
       "      <th>16</th>\n",
       "      <td>2014-05-01</td>\n",
       "      <td>1.337979e+07</td>\n",
       "    </tr>\n",
       "    <tr>\n",
       "      <th>17</th>\n",
       "      <td>2014-06-01</td>\n",
       "      <td>1.438599e+07</td>\n",
       "    </tr>\n",
       "    <tr>\n",
       "      <th>18</th>\n",
       "      <td>2014-07-01</td>\n",
       "      <td>2.000574e+07</td>\n",
       "    </tr>\n",
       "    <tr>\n",
       "      <th>19</th>\n",
       "      <td>2014-08-01</td>\n",
       "      <td>1.388518e+07</td>\n",
       "    </tr>\n",
       "    <tr>\n",
       "      <th>20</th>\n",
       "      <td>2014-09-01</td>\n",
       "      <td>2.002242e+07</td>\n",
       "    </tr>\n",
       "    <tr>\n",
       "      <th>21</th>\n",
       "      <td>2014-10-01</td>\n",
       "      <td>2.039610e+07</td>\n",
       "    </tr>\n",
       "    <tr>\n",
       "      <th>22</th>\n",
       "      <td>2014-11-01</td>\n",
       "      <td>2.053164e+07</td>\n",
       "    </tr>\n",
       "    <tr>\n",
       "      <th>23</th>\n",
       "      <td>2014-12-01</td>\n",
       "      <td>2.622070e+07</td>\n",
       "    </tr>\n",
       "    <tr>\n",
       "      <th>24</th>\n",
       "      <td>2015-01-01</td>\n",
       "      <td>1.489692e+07</td>\n",
       "    </tr>\n",
       "    <tr>\n",
       "      <th>25</th>\n",
       "      <td>2015-02-01</td>\n",
       "      <td>1.374240e+07</td>\n",
       "    </tr>\n",
       "    <tr>\n",
       "      <th>26</th>\n",
       "      <td>2015-03-01</td>\n",
       "      <td>1.559861e+07</td>\n",
       "    </tr>\n",
       "    <tr>\n",
       "      <th>27</th>\n",
       "      <td>2015-04-01</td>\n",
       "      <td>1.495507e+07</td>\n",
       "    </tr>\n",
       "    <tr>\n",
       "      <th>28</th>\n",
       "      <td>2015-05-01</td>\n",
       "      <td>1.773037e+07</td>\n",
       "    </tr>\n",
       "    <tr>\n",
       "      <th>29</th>\n",
       "      <td>2015-06-01</td>\n",
       "      <td>2.265276e+07</td>\n",
       "    </tr>\n",
       "    <tr>\n",
       "      <th>30</th>\n",
       "      <td>2015-07-01</td>\n",
       "      <td>2.298239e+07</td>\n",
       "    </tr>\n",
       "    <tr>\n",
       "      <th>31</th>\n",
       "      <td>2015-08-01</td>\n",
       "      <td>2.296367e+07</td>\n",
       "    </tr>\n",
       "    <tr>\n",
       "      <th>32</th>\n",
       "      <td>2015-09-01</td>\n",
       "      <td>2.324088e+07</td>\n",
       "    </tr>\n",
       "    <tr>\n",
       "      <th>33</th>\n",
       "      <td>2015-10-01</td>\n",
       "      <td>2.387827e+07</td>\n",
       "    </tr>\n",
       "    <tr>\n",
       "      <th>34</th>\n",
       "      <td>2015-11-01</td>\n",
       "      <td>2.280495e+07</td>\n",
       "    </tr>\n",
       "    <tr>\n",
       "      <th>35</th>\n",
       "      <td>2015-12-01</td>\n",
       "      <td>2.838584e+07</td>\n",
       "    </tr>\n",
       "    <tr>\n",
       "      <th>36</th>\n",
       "      <td>2016-01-01</td>\n",
       "      <td>2.397780e+07</td>\n",
       "    </tr>\n",
       "    <tr>\n",
       "      <th>37</th>\n",
       "      <td>2016-02-01</td>\n",
       "      <td>2.194741e+07</td>\n",
       "    </tr>\n",
       "    <tr>\n",
       "      <th>38</th>\n",
       "      <td>2016-03-01</td>\n",
       "      <td>2.313178e+07</td>\n",
       "    </tr>\n",
       "    <tr>\n",
       "      <th>39</th>\n",
       "      <td>2016-04-01</td>\n",
       "      <td>2.696410e+07</td>\n",
       "    </tr>\n",
       "    <tr>\n",
       "      <th>40</th>\n",
       "      <td>2016-05-01</td>\n",
       "      <td>2.854497e+07</td>\n",
       "    </tr>\n",
       "    <tr>\n",
       "      <th>41</th>\n",
       "      <td>2016-06-01</td>\n",
       "      <td>2.392981e+07</td>\n",
       "    </tr>\n",
       "    <tr>\n",
       "      <th>42</th>\n",
       "      <td>2016-07-01</td>\n",
       "      <td>2.543725e+07</td>\n",
       "    </tr>\n",
       "    <tr>\n",
       "      <th>43</th>\n",
       "      <td>2016-08-01</td>\n",
       "      <td>2.245241e+07</td>\n",
       "    </tr>\n",
       "    <tr>\n",
       "      <th>44</th>\n",
       "      <td>2016-09-01</td>\n",
       "      <td>2.241745e+07</td>\n",
       "    </tr>\n",
       "    <tr>\n",
       "      <th>45</th>\n",
       "      <td>2016-10-01</td>\n",
       "      <td>2.403039e+07</td>\n",
       "    </tr>\n",
       "    <tr>\n",
       "      <th>46</th>\n",
       "      <td>2016-11-01</td>\n",
       "      <td>2.557244e+07</td>\n",
       "    </tr>\n",
       "    <tr>\n",
       "      <th>47</th>\n",
       "      <td>2016-12-01</td>\n",
       "      <td>3.077614e+07</td>\n",
       "    </tr>\n",
       "    <tr>\n",
       "      <th>48</th>\n",
       "      <td>2017-01-01</td>\n",
       "      <td>2.632816e+07</td>\n",
       "    </tr>\n",
       "    <tr>\n",
       "      <th>49</th>\n",
       "      <td>2017-02-01</td>\n",
       "      <td>2.325011e+07</td>\n",
       "    </tr>\n",
       "    <tr>\n",
       "      <th>50</th>\n",
       "      <td>2017-03-01</td>\n",
       "      <td>2.670402e+07</td>\n",
       "    </tr>\n",
       "    <tr>\n",
       "      <th>51</th>\n",
       "      <td>2017-04-01</td>\n",
       "      <td>2.663620e+07</td>\n",
       "    </tr>\n",
       "    <tr>\n",
       "      <th>52</th>\n",
       "      <td>2017-05-01</td>\n",
       "      <td>2.691185e+07</td>\n",
       "    </tr>\n",
       "    <tr>\n",
       "      <th>53</th>\n",
       "      <td>2017-06-01</td>\n",
       "      <td>2.786804e+07</td>\n",
       "    </tr>\n",
       "    <tr>\n",
       "      <th>54</th>\n",
       "      <td>2017-07-01</td>\n",
       "      <td>2.793662e+07</td>\n",
       "    </tr>\n",
       "    <tr>\n",
       "      <th>55</th>\n",
       "      <td>2017-08-01</td>\n",
       "      <td>1.243332e+07</td>\n",
       "    </tr>\n",
       "  </tbody>\n",
       "</table>\n",
       "</div>"
      ],
      "text/plain": [
       "   month_year         sales\n",
       "0  2013-01-01  1.032762e+07\n",
       "1  2013-02-01  9.658960e+06\n",
       "2  2013-03-01  1.142850e+07\n",
       "3  2013-04-01  1.099346e+07\n",
       "4  2013-05-01  1.198556e+07\n",
       "5  2013-06-01  1.229958e+07\n",
       "6  2013-07-01  1.163195e+07\n",
       "7  2013-08-01  1.173779e+07\n",
       "8  2013-09-01  1.179293e+07\n",
       "9  2013-10-01  1.177562e+07\n",
       "10 2013-11-01  1.235656e+07\n",
       "11 2013-12-01  1.649941e+07\n",
       "12 2014-01-01  1.891164e+07\n",
       "13 2014-02-01  1.203835e+07\n",
       "14 2014-03-01  2.036558e+07\n",
       "15 2014-04-01  1.286125e+07\n",
       "16 2014-05-01  1.337979e+07\n",
       "17 2014-06-01  1.438599e+07\n",
       "18 2014-07-01  2.000574e+07\n",
       "19 2014-08-01  1.388518e+07\n",
       "20 2014-09-01  2.002242e+07\n",
       "21 2014-10-01  2.039610e+07\n",
       "22 2014-11-01  2.053164e+07\n",
       "23 2014-12-01  2.622070e+07\n",
       "24 2015-01-01  1.489692e+07\n",
       "25 2015-02-01  1.374240e+07\n",
       "26 2015-03-01  1.559861e+07\n",
       "27 2015-04-01  1.495507e+07\n",
       "28 2015-05-01  1.773037e+07\n",
       "29 2015-06-01  2.265276e+07\n",
       "30 2015-07-01  2.298239e+07\n",
       "31 2015-08-01  2.296367e+07\n",
       "32 2015-09-01  2.324088e+07\n",
       "33 2015-10-01  2.387827e+07\n",
       "34 2015-11-01  2.280495e+07\n",
       "35 2015-12-01  2.838584e+07\n",
       "36 2016-01-01  2.397780e+07\n",
       "37 2016-02-01  2.194741e+07\n",
       "38 2016-03-01  2.313178e+07\n",
       "39 2016-04-01  2.696410e+07\n",
       "40 2016-05-01  2.854497e+07\n",
       "41 2016-06-01  2.392981e+07\n",
       "42 2016-07-01  2.543725e+07\n",
       "43 2016-08-01  2.245241e+07\n",
       "44 2016-09-01  2.241745e+07\n",
       "45 2016-10-01  2.403039e+07\n",
       "46 2016-11-01  2.557244e+07\n",
       "47 2016-12-01  3.077614e+07\n",
       "48 2017-01-01  2.632816e+07\n",
       "49 2017-02-01  2.325011e+07\n",
       "50 2017-03-01  2.670402e+07\n",
       "51 2017-04-01  2.663620e+07\n",
       "52 2017-05-01  2.691185e+07\n",
       "53 2017-06-01  2.786804e+07\n",
       "54 2017-07-01  2.793662e+07\n",
       "55 2017-08-01  1.243332e+07"
      ]
     },
     "execution_count": 34,
     "metadata": {},
     "output_type": "execute_result"
    }
   ],
   "source": [
    "monthly_sales"
   ]
  },
  {
   "cell_type": "markdown",
   "id": "Tcn7BFz74_Om",
   "metadata": {
    "id": "Tcn7BFz74_Om"
   },
   "source": [
    "Binary flags have been created to indicate the presence of specific events or conditions:\n",
    "\n",
    "'holiday_flag': Set to 1 if the row corresponds to a holiday (type_x is not missing), otherwise 0.\n",
    "'promotion_flag': Set to 1 if there is at least one item on promotion, otherwise 0.\n",
    "'economic_flag': Set to 1 if oil price data (dcoilwtico) is available for that date, otherwise 0.\n",
    "These flags can help capture the impact of holidays, promotions, and economic conditions on sales."
   ]
  },
  {
   "cell_type": "code",
   "execution_count": 35,
   "id": "bOeiWgdGgvd8",
   "metadata": {
    "executionInfo": {
     "elapsed": 100,
     "status": "ok",
     "timestamp": 1744191690449,
     "user": {
      "displayName": "Surya S B",
      "userId": "17741313183794657452"
     },
     "user_tz": -330
    },
    "id": "bOeiWgdGgvd8"
   },
   "outputs": [],
   "source": [
    "df['holiday_flag'] = df['type_x'].notna().astype(int)\n",
    "df['promotion_flag'] = (df['onpromotion'] > 0).astype(int)\n",
    "df['economic_flag'] = df['dcoilwtico'].notna().astype(int)"
   ]
  },
  {
   "cell_type": "markdown",
   "id": "gygc6tCF5E4h",
   "metadata": {
    "id": "gygc6tCF5E4h"
   },
   "source": [
    "A new feature 'is_payday' has been created to flag potential payday dates.\n",
    "\n",
    "The value is set to 1 if the date is either the 15th of the month or the last day of the month (commonly associated with salary payments).\n",
    "Otherwise, the value is set to 0.\n",
    "This feature may help capture sales patterns influenced by payday-related spending behavior."
   ]
  },
  {
   "cell_type": "code",
   "execution_count": 36,
   "id": "S3cB_Ke6g0RV",
   "metadata": {
    "executionInfo": {
     "elapsed": 299,
     "status": "ok",
     "timestamp": 1744191690739,
     "user": {
      "displayName": "Surya S B",
      "userId": "17741313183794657452"
     },
     "user_tz": -330
    },
    "id": "S3cB_Ke6g0RV"
   },
   "outputs": [],
   "source": [
    "df['is_payday'] = ((df['date'].dt.day == 15) | (df['date'].dt.day == df['date'].dt.days_in_month)).astype(int)"
   ]
  },
  {
   "cell_type": "markdown",
   "id": "7vSId_io5IYY",
   "metadata": {
    "id": "7vSId_io5IYY"
   },
   "source": [
    "A binary feature 'earthquake' has been created to flag the date of a known earthquake event (April 16, 2016).\n",
    "\n",
    "The value is set to 1 for rows where the date is April 16, 2016.\n",
    "All other dates are assigned a value of 0.\n",
    "This feature can help analyze the impact of the earthquake on sales data for that specific day."
   ]
  },
  {
   "cell_type": "code",
   "execution_count": 37,
   "id": "PSgjdYk8g1O-",
   "metadata": {
    "executionInfo": {
     "elapsed": 6,
     "status": "ok",
     "timestamp": 1744191690741,
     "user": {
      "displayName": "Surya S B",
      "userId": "17741313183794657452"
     },
     "user_tz": -330
    },
    "id": "PSgjdYk8g1O-"
   },
   "outputs": [],
   "source": [
    "df['earthquake'] = (df['date'] == pd.Timestamp('2016-04-16')).astype(int)"
   ]
  },
  {
   "cell_type": "markdown",
   "id": "j3zxdiV95L39",
   "metadata": {
    "id": "j3zxdiV95L39"
   },
   "source": [
    "Rolling statistical features have been created to capture short-term trends in sales:\n",
    "\n",
    "'rolling_mean': 7-day rolling average of sales, smoothing out daily fluctuations.\n",
    "'rolling_std': 7-day rolling standard deviation of sales, measuring short-term variability.\n",
    "These features help the model understand recent trends and volatility in sales behavior."
   ]
  },
  {
   "cell_type": "code",
   "execution_count": 38,
   "id": "_tW3Kcfeg7Km",
   "metadata": {
    "executionInfo": {
     "elapsed": 209,
     "status": "ok",
     "timestamp": 1744191690951,
     "user": {
      "displayName": "Surya S B",
      "userId": "17741313183794657452"
     },
     "user_tz": -330
    },
    "id": "_tW3Kcfeg7Km"
   },
   "outputs": [],
   "source": [
    "df['rolling_mean'] = df['sales'].rolling(window=7).mean()\n",
    "df['rolling_std'] = df['sales'].rolling(window=7).std()"
   ]
  },
  {
   "cell_type": "markdown",
   "id": "ZZvBZMrl5PVX",
   "metadata": {
    "id": "ZZvBZMrl5PVX"
   },
   "source": [
    "Lag features have been created to capture past sales performance:\n",
    "\n",
    "'sales_prev_week': Sales value from 7 days ago.\n",
    "'sales_prev_month': Sales value from 30 days ago.\n",
    "These features help the model learn from historical sales patterns and improve forecasting accuracy."
   ]
  },
  {
   "cell_type": "code",
   "execution_count": 39,
   "id": "kwXnrlpDhE3N",
   "metadata": {
    "executionInfo": {
     "elapsed": 36,
     "status": "ok",
     "timestamp": 1744191691004,
     "user": {
      "displayName": "Surya S B",
      "userId": "17741313183794657452"
     },
     "user_tz": -330
    },
    "id": "kwXnrlpDhE3N"
   },
   "outputs": [],
   "source": [
    "df['sales_prev_week'] = df['sales'].shift(7)\n",
    "df['sales_prev_month'] = df['sales'].shift(30)"
   ]
  },
  {
   "cell_type": "markdown",
   "id": "PUvsJlF55S0u",
   "metadata": {
    "id": "PUvsJlF55S0u"
   },
   "source": [
    "Average sales have been calculated for each store type:\n",
    "\n",
    "The data is grouped by 'type_y' (store type).\n",
    "The mean sales value is computed for each group.\n",
    "The result is sorted in descending order to highlight store types with the highest average sales.\n",
    "This helps in understanding which store types generally perform better in terms of sales."
   ]
  },
  {
   "cell_type": "code",
   "execution_count": 40,
   "id": "0JY7neaXhbpM",
   "metadata": {
    "executionInfo": {
     "elapsed": 522,
     "status": "ok",
     "timestamp": 1744191691529,
     "user": {
      "displayName": "Surya S B",
      "userId": "17741313183794657452"
     },
     "user_tz": -330
    },
    "id": "0JY7neaXhbpM"
   },
   "outputs": [],
   "source": [
    "cluster = df.groupby(['cluster', 'family'])['sales'].sum().reset_index()\n",
    "cluster = cluster.sort_values(['cluster', 'sales'], ascending=[True, False])"
   ]
  },
  {
   "cell_type": "markdown",
   "id": "egYQ5VBE5Tp9",
   "metadata": {
    "id": "egYQ5VBE5Tp9"
   },
   "source": [
    "Total sales have been aggregated by store cluster and product family:\n",
    "\n",
    "The data is grouped by 'cluster' and 'family'.\n",
    "Sales values are summed within each group.\n",
    "The result is sorted by cluster and then by sales in descending order.\n",
    "This helps identify the top-performing product families within each store cluster."
   ]
  },
  {
   "cell_type": "code",
   "execution_count": 41,
   "id": "9INZcYX6hddl",
   "metadata": {
    "executionInfo": {
     "elapsed": 4,
     "status": "ok",
     "timestamp": 1744191691535,
     "user": {
      "displayName": "Surya S B",
      "userId": "17741313183794657452"
     },
     "user_tz": -330
    },
    "id": "9INZcYX6hddl"
   },
   "outputs": [],
   "source": [
    "cluster = cluster.groupby('cluster').first().reset_index()"
   ]
  },
  {
   "cell_type": "code",
   "execution_count": 42,
   "id": "Aq70cqSBheF8",
   "metadata": {
    "colab": {
     "base_uri": "https://localhost:8080/",
     "height": 582
    },
    "executionInfo": {
     "elapsed": 27,
     "status": "ok",
     "timestamp": 1744191691563,
     "user": {
      "displayName": "Surya S B",
      "userId": "17741313183794657452"
     },
     "user_tz": -330
    },
    "id": "Aq70cqSBheF8",
    "outputId": "37a7ab4d-e752-4d6a-b751-541b19367444"
   },
   "outputs": [
    {
     "data": {
      "text/html": [
       "<div>\n",
       "<style scoped>\n",
       "    .dataframe tbody tr th:only-of-type {\n",
       "        vertical-align: middle;\n",
       "    }\n",
       "\n",
       "    .dataframe tbody tr th {\n",
       "        vertical-align: top;\n",
       "    }\n",
       "\n",
       "    .dataframe thead th {\n",
       "        text-align: right;\n",
       "    }\n",
       "</style>\n",
       "<table border=\"1\" class=\"dataframe\">\n",
       "  <thead>\n",
       "    <tr style=\"text-align: right;\">\n",
       "      <th></th>\n",
       "      <th>cluster</th>\n",
       "      <th>family</th>\n",
       "      <th>sales</th>\n",
       "    </tr>\n",
       "  </thead>\n",
       "  <tbody>\n",
       "    <tr>\n",
       "      <th>0</th>\n",
       "      <td>1</td>\n",
       "      <td>GROCERY I</td>\n",
       "      <td>1.483284e+07</td>\n",
       "    </tr>\n",
       "    <tr>\n",
       "      <th>1</th>\n",
       "      <td>2</td>\n",
       "      <td>GROCERY I</td>\n",
       "      <td>8.649030e+06</td>\n",
       "    </tr>\n",
       "    <tr>\n",
       "      <th>2</th>\n",
       "      <td>3</td>\n",
       "      <td>GROCERY I</td>\n",
       "      <td>2.978610e+07</td>\n",
       "    </tr>\n",
       "    <tr>\n",
       "      <th>3</th>\n",
       "      <td>4</td>\n",
       "      <td>GROCERY I</td>\n",
       "      <td>1.682519e+07</td>\n",
       "    </tr>\n",
       "    <tr>\n",
       "      <th>4</th>\n",
       "      <td>5</td>\n",
       "      <td>GROCERY I</td>\n",
       "      <td>1.671595e+07</td>\n",
       "    </tr>\n",
       "    <tr>\n",
       "      <th>5</th>\n",
       "      <td>6</td>\n",
       "      <td>GROCERY I</td>\n",
       "      <td>4.397177e+07</td>\n",
       "    </tr>\n",
       "    <tr>\n",
       "      <th>6</th>\n",
       "      <td>7</td>\n",
       "      <td>GROCERY I</td>\n",
       "      <td>6.163853e+06</td>\n",
       "    </tr>\n",
       "    <tr>\n",
       "      <th>7</th>\n",
       "      <td>8</td>\n",
       "      <td>GROCERY I</td>\n",
       "      <td>2.768491e+07</td>\n",
       "    </tr>\n",
       "    <tr>\n",
       "      <th>8</th>\n",
       "      <td>9</td>\n",
       "      <td>GROCERY I</td>\n",
       "      <td>9.159591e+06</td>\n",
       "    </tr>\n",
       "    <tr>\n",
       "      <th>9</th>\n",
       "      <td>10</td>\n",
       "      <td>GROCERY I</td>\n",
       "      <td>3.021405e+07</td>\n",
       "    </tr>\n",
       "    <tr>\n",
       "      <th>10</th>\n",
       "      <td>11</td>\n",
       "      <td>GROCERY I</td>\n",
       "      <td>2.880349e+07</td>\n",
       "    </tr>\n",
       "    <tr>\n",
       "      <th>11</th>\n",
       "      <td>12</td>\n",
       "      <td>GROCERY I</td>\n",
       "      <td>6.589764e+06</td>\n",
       "    </tr>\n",
       "    <tr>\n",
       "      <th>12</th>\n",
       "      <td>13</td>\n",
       "      <td>GROCERY I</td>\n",
       "      <td>2.183388e+07</td>\n",
       "    </tr>\n",
       "    <tr>\n",
       "      <th>13</th>\n",
       "      <td>14</td>\n",
       "      <td>GROCERY I</td>\n",
       "      <td>5.394487e+07</td>\n",
       "    </tr>\n",
       "    <tr>\n",
       "      <th>14</th>\n",
       "      <td>15</td>\n",
       "      <td>GROCERY I</td>\n",
       "      <td>2.301842e+07</td>\n",
       "    </tr>\n",
       "    <tr>\n",
       "      <th>15</th>\n",
       "      <td>16</td>\n",
       "      <td>GROCERY I</td>\n",
       "      <td>4.228880e+06</td>\n",
       "    </tr>\n",
       "    <tr>\n",
       "      <th>16</th>\n",
       "      <td>17</td>\n",
       "      <td>GROCERY I</td>\n",
       "      <td>8.404701e+06</td>\n",
       "    </tr>\n",
       "  </tbody>\n",
       "</table>\n",
       "</div>"
      ],
      "text/plain": [
       "    cluster     family         sales\n",
       "0         1  GROCERY I  1.483284e+07\n",
       "1         2  GROCERY I  8.649030e+06\n",
       "2         3  GROCERY I  2.978610e+07\n",
       "3         4  GROCERY I  1.682519e+07\n",
       "4         5  GROCERY I  1.671595e+07\n",
       "5         6  GROCERY I  4.397177e+07\n",
       "6         7  GROCERY I  6.163853e+06\n",
       "7         8  GROCERY I  2.768491e+07\n",
       "8         9  GROCERY I  9.159591e+06\n",
       "9        10  GROCERY I  3.021405e+07\n",
       "10       11  GROCERY I  2.880349e+07\n",
       "11       12  GROCERY I  6.589764e+06\n",
       "12       13  GROCERY I  2.183388e+07\n",
       "13       14  GROCERY I  5.394487e+07\n",
       "14       15  GROCERY I  2.301842e+07\n",
       "15       16  GROCERY I  4.228880e+06\n",
       "16       17  GROCERY I  8.404701e+06"
      ]
     },
     "execution_count": 42,
     "metadata": {},
     "output_type": "execute_result"
    }
   ],
   "source": [
    "cluster"
   ]
  },
  {
   "cell_type": "code",
   "execution_count": 43,
   "id": "dkr8OtjnhnV3",
   "metadata": {
    "executionInfo": {
     "elapsed": 7542,
     "status": "ok",
     "timestamp": 1744191699097,
     "user": {
      "displayName": "Surya S B",
      "userId": "17741313183794657452"
     },
     "user_tz": -330
    },
    "id": "dkr8OtjnhnV3"
   },
   "outputs": [],
   "source": [
    "df = df.bfill().ffill()"
   ]
  },
  {
   "cell_type": "code",
   "execution_count": 44,
   "id": "rKyW8LH6hpl0",
   "metadata": {
    "colab": {
     "base_uri": "https://localhost:8080/",
     "height": 313
    },
    "executionInfo": {
     "elapsed": 7,
     "status": "ok",
     "timestamp": 1744191699106,
     "user": {
      "displayName": "Surya S B",
      "userId": "17741313183794657452"
     },
     "user_tz": -330
    },
    "id": "rKyW8LH6hpl0",
    "outputId": "c2e95f62-aa69-4138-d738-6806e068a774"
   },
   "outputs": [
    {
     "data": {
      "text/html": [
       "<div>\n",
       "<style scoped>\n",
       "    .dataframe tbody tr th:only-of-type {\n",
       "        vertical-align: middle;\n",
       "    }\n",
       "\n",
       "    .dataframe tbody tr th {\n",
       "        vertical-align: top;\n",
       "    }\n",
       "\n",
       "    .dataframe thead th {\n",
       "        text-align: right;\n",
       "    }\n",
       "</style>\n",
       "<table border=\"1\" class=\"dataframe\">\n",
       "  <thead>\n",
       "    <tr style=\"text-align: right;\">\n",
       "      <th></th>\n",
       "      <th>id</th>\n",
       "      <th>date</th>\n",
       "      <th>store_nbr</th>\n",
       "      <th>family</th>\n",
       "      <th>sales</th>\n",
       "      <th>onpromotion</th>\n",
       "      <th>city</th>\n",
       "      <th>state</th>\n",
       "      <th>type_x</th>\n",
       "      <th>cluster</th>\n",
       "      <th>dcoilwtico</th>\n",
       "      <th>is_relevant_holiday</th>\n",
       "      <th>day</th>\n",
       "      <th>week</th>\n",
       "      <th>month</th>\n",
       "      <th>year</th>\n",
       "      <th>day_of_week</th>\n",
       "      <th>is_weekend</th>\n",
       "      <th>weekday_name</th>\n",
       "      <th>month_year</th>\n",
       "      <th>holiday_flag</th>\n",
       "      <th>promotion_flag</th>\n",
       "      <th>economic_flag</th>\n",
       "      <th>is_payday</th>\n",
       "      <th>earthquake</th>\n",
       "      <th>rolling_mean</th>\n",
       "      <th>rolling_std</th>\n",
       "      <th>sales_prev_week</th>\n",
       "      <th>sales_prev_month</th>\n",
       "    </tr>\n",
       "  </thead>\n",
       "  <tbody>\n",
       "    <tr>\n",
       "      <th>0</th>\n",
       "      <td>0</td>\n",
       "      <td>2013-01-01</td>\n",
       "      <td>1</td>\n",
       "      <td>AUTOMOTIVE</td>\n",
       "      <td>0.0</td>\n",
       "      <td>0</td>\n",
       "      <td>Quito</td>\n",
       "      <td>Pichincha</td>\n",
       "      <td>D</td>\n",
       "      <td>13</td>\n",
       "      <td>93.14</td>\n",
       "      <td>True</td>\n",
       "      <td>1</td>\n",
       "      <td>1</td>\n",
       "      <td>1</td>\n",
       "      <td>2013</td>\n",
       "      <td>3</td>\n",
       "      <td>0</td>\n",
       "      <td>Tuesday</td>\n",
       "      <td>2013-01</td>\n",
       "      <td>1</td>\n",
       "      <td>0</td>\n",
       "      <td>1</td>\n",
       "      <td>0</td>\n",
       "      <td>0</td>\n",
       "      <td>0.0</td>\n",
       "      <td>0.0</td>\n",
       "      <td>0.0</td>\n",
       "      <td>0.0</td>\n",
       "    </tr>\n",
       "    <tr>\n",
       "      <th>1</th>\n",
       "      <td>1</td>\n",
       "      <td>2013-01-01</td>\n",
       "      <td>1</td>\n",
       "      <td>BABY CARE</td>\n",
       "      <td>0.0</td>\n",
       "      <td>0</td>\n",
       "      <td>Quito</td>\n",
       "      <td>Pichincha</td>\n",
       "      <td>D</td>\n",
       "      <td>13</td>\n",
       "      <td>93.14</td>\n",
       "      <td>True</td>\n",
       "      <td>1</td>\n",
       "      <td>1</td>\n",
       "      <td>1</td>\n",
       "      <td>2013</td>\n",
       "      <td>3</td>\n",
       "      <td>0</td>\n",
       "      <td>Tuesday</td>\n",
       "      <td>2013-01</td>\n",
       "      <td>1</td>\n",
       "      <td>0</td>\n",
       "      <td>1</td>\n",
       "      <td>0</td>\n",
       "      <td>0</td>\n",
       "      <td>0.0</td>\n",
       "      <td>0.0</td>\n",
       "      <td>0.0</td>\n",
       "      <td>0.0</td>\n",
       "    </tr>\n",
       "    <tr>\n",
       "      <th>2</th>\n",
       "      <td>2</td>\n",
       "      <td>2013-01-01</td>\n",
       "      <td>1</td>\n",
       "      <td>BEAUTY</td>\n",
       "      <td>0.0</td>\n",
       "      <td>0</td>\n",
       "      <td>Quito</td>\n",
       "      <td>Pichincha</td>\n",
       "      <td>D</td>\n",
       "      <td>13</td>\n",
       "      <td>93.14</td>\n",
       "      <td>True</td>\n",
       "      <td>1</td>\n",
       "      <td>1</td>\n",
       "      <td>1</td>\n",
       "      <td>2013</td>\n",
       "      <td>3</td>\n",
       "      <td>0</td>\n",
       "      <td>Tuesday</td>\n",
       "      <td>2013-01</td>\n",
       "      <td>1</td>\n",
       "      <td>0</td>\n",
       "      <td>1</td>\n",
       "      <td>0</td>\n",
       "      <td>0</td>\n",
       "      <td>0.0</td>\n",
       "      <td>0.0</td>\n",
       "      <td>0.0</td>\n",
       "      <td>0.0</td>\n",
       "    </tr>\n",
       "    <tr>\n",
       "      <th>3</th>\n",
       "      <td>3</td>\n",
       "      <td>2013-01-01</td>\n",
       "      <td>1</td>\n",
       "      <td>BEVERAGES</td>\n",
       "      <td>0.0</td>\n",
       "      <td>0</td>\n",
       "      <td>Quito</td>\n",
       "      <td>Pichincha</td>\n",
       "      <td>D</td>\n",
       "      <td>13</td>\n",
       "      <td>93.14</td>\n",
       "      <td>True</td>\n",
       "      <td>1</td>\n",
       "      <td>1</td>\n",
       "      <td>1</td>\n",
       "      <td>2013</td>\n",
       "      <td>3</td>\n",
       "      <td>0</td>\n",
       "      <td>Tuesday</td>\n",
       "      <td>2013-01</td>\n",
       "      <td>1</td>\n",
       "      <td>0</td>\n",
       "      <td>1</td>\n",
       "      <td>0</td>\n",
       "      <td>0</td>\n",
       "      <td>0.0</td>\n",
       "      <td>0.0</td>\n",
       "      <td>0.0</td>\n",
       "      <td>0.0</td>\n",
       "    </tr>\n",
       "    <tr>\n",
       "      <th>4</th>\n",
       "      <td>4</td>\n",
       "      <td>2013-01-01</td>\n",
       "      <td>1</td>\n",
       "      <td>BOOKS</td>\n",
       "      <td>0.0</td>\n",
       "      <td>0</td>\n",
       "      <td>Quito</td>\n",
       "      <td>Pichincha</td>\n",
       "      <td>D</td>\n",
       "      <td>13</td>\n",
       "      <td>93.14</td>\n",
       "      <td>True</td>\n",
       "      <td>1</td>\n",
       "      <td>1</td>\n",
       "      <td>1</td>\n",
       "      <td>2013</td>\n",
       "      <td>3</td>\n",
       "      <td>0</td>\n",
       "      <td>Tuesday</td>\n",
       "      <td>2013-01</td>\n",
       "      <td>1</td>\n",
       "      <td>0</td>\n",
       "      <td>1</td>\n",
       "      <td>0</td>\n",
       "      <td>0</td>\n",
       "      <td>0.0</td>\n",
       "      <td>0.0</td>\n",
       "      <td>0.0</td>\n",
       "      <td>0.0</td>\n",
       "    </tr>\n",
       "  </tbody>\n",
       "</table>\n",
       "</div>"
      ],
      "text/plain": [
       "   id       date  store_nbr      family  sales  onpromotion   city      state  \\\n",
       "0   0 2013-01-01          1  AUTOMOTIVE    0.0            0  Quito  Pichincha   \n",
       "1   1 2013-01-01          1   BABY CARE    0.0            0  Quito  Pichincha   \n",
       "2   2 2013-01-01          1      BEAUTY    0.0            0  Quito  Pichincha   \n",
       "3   3 2013-01-01          1   BEVERAGES    0.0            0  Quito  Pichincha   \n",
       "4   4 2013-01-01          1       BOOKS    0.0            0  Quito  Pichincha   \n",
       "\n",
       "  type_x  cluster  dcoilwtico  is_relevant_holiday  day  week  month  year  \\\n",
       "0      D       13       93.14                 True    1     1      1  2013   \n",
       "1      D       13       93.14                 True    1     1      1  2013   \n",
       "2      D       13       93.14                 True    1     1      1  2013   \n",
       "3      D       13       93.14                 True    1     1      1  2013   \n",
       "4      D       13       93.14                 True    1     1      1  2013   \n",
       "\n",
       "   day_of_week  is_weekend weekday_name month_year  holiday_flag  \\\n",
       "0            3           0      Tuesday    2013-01             1   \n",
       "1            3           0      Tuesday    2013-01             1   \n",
       "2            3           0      Tuesday    2013-01             1   \n",
       "3            3           0      Tuesday    2013-01             1   \n",
       "4            3           0      Tuesday    2013-01             1   \n",
       "\n",
       "   promotion_flag  economic_flag  is_payday  earthquake  rolling_mean  \\\n",
       "0               0              1          0           0           0.0   \n",
       "1               0              1          0           0           0.0   \n",
       "2               0              1          0           0           0.0   \n",
       "3               0              1          0           0           0.0   \n",
       "4               0              1          0           0           0.0   \n",
       "\n",
       "   rolling_std  sales_prev_week  sales_prev_month  \n",
       "0          0.0              0.0               0.0  \n",
       "1          0.0              0.0               0.0  \n",
       "2          0.0              0.0               0.0  \n",
       "3          0.0              0.0               0.0  \n",
       "4          0.0              0.0               0.0  "
      ]
     },
     "execution_count": 44,
     "metadata": {},
     "output_type": "execute_result"
    }
   ],
   "source": [
    "df.head()"
   ]
  },
  {
   "cell_type": "markdown",
   "id": "7iK7fQBrh1wD",
   "metadata": {
    "id": "7iK7fQBrh1wD"
   },
   "source": [
    "# EDA - Analysis"
   ]
  },
  {
   "cell_type": "markdown",
   "id": "UnCgzouB5jpm",
   "metadata": {
    "id": "UnCgzouB5jpm"
   },
   "source": [
    "## Total Sales Over Time"
   ]
  },
  {
   "cell_type": "code",
   "execution_count": 45,
   "id": "NLRod9_NHLgF",
   "metadata": {
    "colab": {
     "base_uri": "https://localhost:8080/",
     "height": 522
    },
    "executionInfo": {
     "elapsed": 592,
     "status": "ok",
     "timestamp": 1744191699699,
     "user": {
      "displayName": "Surya S B",
      "userId": "17741313183794657452"
     },
     "user_tz": -330
    },
    "id": "NLRod9_NHLgF",
    "outputId": "ce59a526-2807-4c5c-9ee5-3ef6ca80d1b5"
   },
   "outputs": [
    {
     "data": {
      "image/png": "[encoded data removed]",
      "text/plain": [
       "<Figure size 1500x600 with 1 Axes>"
      ]
     },
     "metadata": {},
     "output_type": "display_data"
    }
   ],
   "source": [
    "plt.figure(figsize=(15, 6))\n",
    "sns.lineplot(x='month_year', y='sales', data=monthly_sales)\n",
    "plt.title('Total Sales Over Time')\n",
    "plt.xlabel('Month-Year')\n",
    "plt.ylabel('Total Sales')\n",
    "plt.xticks(rotation=45)\n",
    "plt.grid(True)\n",
    "plt.tight_layout()\n",
    "plt.show()"
   ]
  },
  {
   "cell_type": "markdown",
   "id": "drJpHfru5oIH",
   "metadata": {
    "id": "drJpHfru5oIH"
   },
   "source": [
    "# Trends"
   ]
  },
  {
   "cell_type": "code",
   "execution_count": 46,
   "id": "204ba2be-b6da-408b-9157-f3ab2b7c9b41",
   "metadata": {},
   "outputs": [],
   "source": [
    "#pip install statsmodels"
   ]
  },
  {
   "cell_type": "code",
   "execution_count": 47,
   "id": "SzlrWT1aHOGI",
   "metadata": {
    "colab": {
     "base_uri": "https://localhost:8080/",
     "height": 504
    },
    "executionInfo": {
     "elapsed": 2958,
     "status": "ok",
     "timestamp": 1744191702659,
     "user": {
      "displayName": "Surya S B",
      "userId": "17741313183794657452"
     },
     "user_tz": -330
    },
    "id": "SzlrWT1aHOGI",
    "outputId": "2d4d4fcd-6da2-4847-8a23-24cf30bc68cd"
   },
   "outputs": [
    {
     "data": {
      "text/plain": [
       "<Figure size 1200x800 with 0 Axes>"
      ]
     },
     "metadata": {},
     "output_type": "display_data"
    },
    {
     "data": {
      "image/png": "[encoded data removed]",
      "text/plain": [
       "<Figure size 640x480 with 4 Axes>"
      ]
     },
     "metadata": {},
     "output_type": "display_data"
    }
   ],
   "source": [
    "from statsmodels.tsa.seasonal import seasonal_decompose\n",
    "\n",
    "# Set date as index and ensure regular frequency\n",
    "ts_data = df.set_index('date')\n",
    "ts_data = ts_data[['sales']].resample('D').sum()  # Daily aggregation\n",
    "\n",
    "# Decompose the time series\n",
    "result = seasonal_decompose(ts_data, model='additive', period=365)  # Annual seasonality\n",
    "\n",
    "plt.figure(figsize=(12, 8))\n",
    "result.plot()\n",
    "plt.tight_layout()\n",
    "plt.show()"
   ]
  },
  {
   "cell_type": "markdown",
   "id": "BT3VJk9l5wMQ",
   "metadata": {
    "id": "BT3VJk9l5wMQ"
   },
   "source": [
    "## Average Sales by Month (All Years)"
   ]
  },
  {
   "cell_type": "code",
   "execution_count": 48,
   "id": "Mj0EBUDiHXJY",
   "metadata": {
    "colab": {
     "base_uri": "https://localhost:8080/",
     "height": 574
    },
    "executionInfo": {
     "elapsed": 553,
     "status": "ok",
     "timestamp": 1744191703214,
     "user": {
      "displayName": "Surya S B",
      "userId": "17741313183794657452"
     },
     "user_tz": -330
    },
    "id": "Mj0EBUDiHXJY",
    "outputId": "82d395db-5ef0-408b-f634-64fe75e39c35"
   },
   "outputs": [
    {
     "name": "stderr",
     "output_type": "stream",
     "text": [
      "C:\\Users\\Surya-PC\\AppData\\Local\\Temp\\ipykernel_5864\\2344793782.py:8: FutureWarning: \n",
      "\n",
      "Passing `palette` without assigning `hue` is deprecated and will be removed in v0.14.0. Assign the `x` variable to `hue` and set `legend=False` for the same effect.\n",
      "\n",
      "  sns.barplot(x='month', y='sales', data=monthly_avg, palette='viridis')\n"
     ]
    },
    {
     "data": {
      "image/png": "[encoded data removed]",
      "text/plain": [
       "<Figure size 1000x500 with 1 Axes>"
      ]
     },
     "metadata": {},
     "output_type": "display_data"
    }
   ],
   "source": [
    "# Extract month from date\n",
    "df['month'] = df['date'].dt.month\n",
    "\n",
    "# Group by month and calculate average sales\n",
    "monthly_avg = df.groupby('month')['sales'].mean().reset_index()\n",
    "\n",
    "plt.figure(figsize=(10, 5))\n",
    "sns.barplot(x='month', y='sales', data=monthly_avg, palette='viridis')\n",
    "plt.title('Average Sales by Month (All Years)')\n",
    "plt.xlabel('Month')\n",
    "plt.ylabel('Average Sales')\n",
    "plt.xticks(range(12), ['Jan', 'Feb', 'Mar', 'Apr', 'May', 'Jun',\n",
    "                      'Jul', 'Aug', 'Sep', 'Oct', 'Nov', 'Dec'])\n",
    "plt.grid(True, axis='y')\n",
    "plt.show()"
   ]
  },
  {
   "cell_type": "markdown",
   "id": "ON1UwmRt5zW5",
   "metadata": {
    "id": "ON1UwmRt5zW5"
   },
   "source": [
    "## Average Sales by Day of Week"
   ]
  },
  {
   "cell_type": "code",
   "execution_count": 49,
   "id": "FmoQvUDBHbjA",
   "metadata": {
    "colab": {
     "base_uri": "https://localhost:8080/",
     "height": 574
    },
    "executionInfo": {
     "elapsed": 329,
     "status": "ok",
     "timestamp": 1744191703544,
     "user": {
      "displayName": "Surya S B",
      "userId": "17741313183794657452"
     },
     "user_tz": -330
    },
    "id": "FmoQvUDBHbjA",
    "outputId": "a52fd196-ab94-4ecd-8388-3ce49d664f74"
   },
   "outputs": [
    {
     "name": "stderr",
     "output_type": "stream",
     "text": [
      "C:\\Users\\Surya-PC\\AppData\\Local\\Temp\\ipykernel_5864\\2543648217.py:5: FutureWarning: \n",
      "\n",
      "Passing `palette` without assigning `hue` is deprecated and will be removed in v0.14.0. Assign the `x` variable to `hue` and set `legend=False` for the same effect.\n",
      "\n",
      "  sns.barplot(x='day_of_week', y='sales', data=weekly_pattern,\n"
     ]
    },
    {
     "data": {
      "image/png": "[encoded data removed]",
      "text/plain": [
       "<Figure size 1000x500 with 1 Axes>"
      ]
     },
     "metadata": {},
     "output_type": "display_data"
    }
   ],
   "source": [
    "# Group by day of week and calculate average sales\n",
    "weekly_pattern = df.groupby('day_of_week')['sales'].mean().reset_index()\n",
    "\n",
    "plt.figure(figsize=(10, 5))\n",
    "sns.barplot(x='day_of_week', y='sales', data=weekly_pattern,\n",
    "            order=[0, 1, 2, 3, 4, 5, 6],  # Monday to Sunday\n",
    "            palette='coolwarm')\n",
    "plt.title('Average Sales by Day of Week')\n",
    "plt.xlabel('Day of Week')\n",
    "plt.ylabel('Average Sales')\n",
    "plt.xticks(range(7), ['Mon', 'Tue', 'Wed', 'Thu', 'Fri', 'Sat', 'Sun'])\n",
    "plt.grid(True, axis='y')\n",
    "plt.show()"
   ]
  },
  {
   "cell_type": "code",
   "execution_count": 50,
   "id": "4e-E1KAZHiMH",
   "metadata": {
    "colab": {
     "base_uri": "https://localhost:8080/",
     "height": 487
    },
    "executionInfo": {
     "elapsed": 5278,
     "status": "ok",
     "timestamp": 1744191708823,
     "user": {
      "displayName": "Surya S B",
      "userId": "17741313183794657452"
     },
     "user_tz": -330
    },
    "id": "4e-E1KAZHiMH",
    "outputId": "93bf9d65-f9ea-4127-f66c-2178fdb5219e"
   },
   "outputs": [
    {
     "data": {
      "image/png": "[encoded data removed]",
      "text/plain": [
       "<Figure size 800x500 with 1 Axes>"
      ]
     },
     "metadata": {},
     "output_type": "display_data"
    }
   ],
   "source": [
    "plt.figure(figsize=(8, 5))\n",
    "sns.boxplot(x='is_relevant_holiday', y='sales', data=df)\n",
    "plt.title('Sales Distribution: Holiday vs Non-Holiday')\n",
    "plt.xlabel('Is Holiday?')\n",
    "plt.ylabel('Sales')\n",
    "plt.xticks([0, 1], ['Non-Holiday', 'Holiday'])\n",
    "plt.show()"
   ]
  },
  {
   "cell_type": "code",
   "execution_count": 51,
   "id": "eu_O2m3DHju9",
   "metadata": {
    "colab": {
     "base_uri": "https://localhost:8080/",
     "height": 564
    },
    "executionInfo": {
     "elapsed": 207,
     "status": "ok",
     "timestamp": 1744191709033,
     "user": {
      "displayName": "Surya S B",
      "userId": "17741313183794657452"
     },
     "user_tz": -330
    },
    "id": "eu_O2m3DHju9",
    "outputId": "500c358a-c041-4e18-a390-7e801c0f7817"
   },
   "outputs": [
    {
     "data": {
      "image/png": "[encoded data removed]",
      "text/plain": [
       "<Figure size 1200x600 with 1 Axes>"
      ]
     },
     "metadata": {},
     "output_type": "display_data"
    }
   ],
   "source": [
    "# Pivot table for year-month sales\n",
    "year_month_sales = df.pivot_table(values='sales',\n",
    "                                 index='month',\n",
    "                                 columns='year',\n",
    "                                 aggfunc='sum')\n",
    "\n",
    "plt.figure(figsize=(12, 6))\n",
    "sns.lineplot(data=year_month_sales, dashes=False)\n",
    "plt.title('Year-over-Year Monthly Sales Comparison')\n",
    "plt.xlabel('Month')\n",
    "plt.ylabel('Total Sales')\n",
    "plt.xticks(range(1, 13), ['Jan', 'Feb', 'Mar', 'Apr', 'May', 'Jun',\n",
    "                         'Jul', 'Aug', 'Sep', 'Oct', 'Nov', 'Dec'])\n",
    "plt.legend(title='Year')\n",
    "plt.grid(True)\n",
    "plt.show()"
   ]
  },
  {
   "cell_type": "code",
   "execution_count": 52,
   "id": "cSj1MnyuHnnz",
   "metadata": {
    "colab": {
     "base_uri": "https://localhost:8080/",
     "height": 561
    },
    "executionInfo": {
     "elapsed": 796,
     "status": "ok",
     "timestamp": 1744191709832,
     "user": {
      "displayName": "Surya S B",
      "userId": "17741313183794657452"
     },
     "user_tz": -330
    },
    "id": "cSj1MnyuHnnz",
    "outputId": "912b1dd9-c772-4056-c5b2-1e93458f61b6"
   },
   "outputs": [
    {
     "data": {
      "image/png": "[encoded data removed]",
      "text/plain": [
       "<Figure size 1400x600 with 1 Axes>"
      ]
     },
     "metadata": {},
     "output_type": "display_data"
    }
   ],
   "source": [
    "# Aggregate sales by holiday status and product family\n",
    "holiday_family_sales = df.groupby(['is_relevant_holiday', 'family'])['sales'].mean().reset_index()\n",
    "\n",
    "plt.figure(figsize=(14, 6))\n",
    "sns.barplot(x='family', y='sales', hue='is_relevant_holiday', data=holiday_family_sales)\n",
    "plt.title('Average Sales by Product Family: Holiday vs Non-Holiday')\n",
    "plt.xlabel('Product Family')\n",
    "plt.ylabel('Average Sales')\n",
    "plt.xticks(rotation=45)\n",
    "plt.legend(title='', labels=['Non-Holiday', 'Holiday'])\n",
    "plt.tight_layout()\n",
    "plt.show()"
   ]
  },
  {
   "cell_type": "code",
   "execution_count": 53,
   "id": "JTDNpNepaXl1",
   "metadata": {
    "executionInfo": {
     "elapsed": 17415,
     "status": "ok",
     "timestamp": 1744191727249,
     "user": {
      "displayName": "Surya S B",
      "userId": "17741313183794657452"
     },
     "user_tz": -330
    },
    "id": "JTDNpNepaXl1"
   },
   "outputs": [],
   "source": [
    "import calendar\n",
    "\n",
    "def is_payday(date):\n",
    "    \"\"\"Identify if date is a government payday (15th or last day of month)\"\"\"\n",
    "    day = date.day\n",
    "    last_day = calendar.monthrange(date.year, date.month)[1]\n",
    "    return 1 if (day == 15) or (day == last_day) else 0\n",
    "\n",
    "df['is_payday'] = df['date'].apply(is_payday)\n",
    "df['days_until_payday'] = df['date'].apply(lambda x: min(15 - x.day, 0) if x.day < 15\n",
    "                          else calendar.monthrange(x.year, x.month)[1] - x.day)"
   ]
  },
  {
   "cell_type": "code",
   "execution_count": 54,
   "id": "aXOn9YPbHzp_",
   "metadata": {
    "colab": {
     "base_uri": "https://localhost:8080/",
     "height": 410
    },
    "executionInfo": {
     "elapsed": 7178,
     "status": "ok",
     "timestamp": 1744191734410,
     "user": {
      "displayName": "Surya S B",
      "userId": "17741313183794657452"
     },
     "user_tz": -330
    },
    "id": "aXOn9YPbHzp_",
    "outputId": "a018cf59-d8b4-4db2-e7c3-83c6006c682b"
   },
   "outputs": [
    {
     "data": {
      "image/png": "[encoded data removed]",
      "text/plain": [
       "<Figure size 600x400 with 1 Axes>"
      ]
     },
     "metadata": {},
     "output_type": "display_data"
    }
   ],
   "source": [
    "plt.figure(figsize=(6, 4))\n",
    "sns.boxplot(x='promotion_flag', y='sales', data=df)\n",
    "plt.title(\"Sales: Promotion Days vs Non-Promotion Days\")\n",
    "plt.xlabel(\"Promotion\")\n",
    "plt.ylabel(\"Sales\")\n",
    "plt.show()"
   ]
  },
  {
   "cell_type": "code",
   "execution_count": 55,
   "id": "Ly_65mSYasZi",
   "metadata": {
    "colab": {
     "base_uri": "https://localhost:8080/",
     "height": 545
    },
    "executionInfo": {
     "elapsed": 3511,
     "status": "ok",
     "timestamp": 1744191737923,
     "user": {
      "displayName": "Surya S B",
      "userId": "17741313183794657452"
     },
     "user_tz": -330
    },
    "id": "Ly_65mSYasZi",
    "outputId": "679b7585-e976-477f-9f73-72bfbd4a4676"
   },
   "outputs": [
    {
     "data": {
      "image/png": "[encoded data removed]",
      "text/plain": [
       "<Figure size 1200x600 with 1 Axes>"
      ]
     },
     "metadata": {},
     "output_type": "display_data"
    }
   ],
   "source": [
    "plt.figure(figsize=(12, 6))\n",
    "plt.plot(df['date'], df['sales'], label='Sales', alpha=0.7)\n",
    "plt.plot(df['date'], df['dcoilwtico'], label='Oil Price', alpha=0.7)\n",
    "plt.title(\"Sales vs Oil Price Over Time\")\n",
    "plt.legend()\n",
    "plt.grid(True)\n",
    "plt.show()"
   ]
  },
  {
   "cell_type": "code",
   "execution_count": 56,
   "id": "9VmFeIcriMhV",
   "metadata": {
    "colab": {
     "base_uri": "https://localhost:8080/"
    },
    "executionInfo": {
     "elapsed": 66,
     "status": "ok",
     "timestamp": 1744191737973,
     "user": {
      "displayName": "Surya S B",
      "userId": "17741313183794657452"
     },
     "user_tz": -330
    },
    "id": "9VmFeIcriMhV",
    "outputId": "98f48b29-c7ae-43b9-e67f-f447b2107dbd"
   },
   "outputs": [
    {
     "name": "stdout",
     "output_type": "stream",
     "text": [
      "               sales  dcoilwtico\n",
      "sales       1.000000   -0.075606\n",
      "dcoilwtico -0.075606    1.000000\n"
     ]
    }
   ],
   "source": [
    "correlation = df[['sales', 'dcoilwtico']].corr()\n",
    "print(correlation)"
   ]
  },
  {
   "cell_type": "code",
   "execution_count": 57,
   "id": "fgU2FS5uiZIz",
   "metadata": {
    "colab": {
     "base_uri": "https://localhost:8080/",
     "height": 313
    },
    "executionInfo": {
     "elapsed": 45,
     "status": "ok",
     "timestamp": 1744191738019,
     "user": {
      "displayName": "Surya S B",
      "userId": "17741313183794657452"
     },
     "user_tz": -330
    },
    "id": "fgU2FS5uiZIz",
    "outputId": "873709df-83b6-4122-cd39-5929bf957856"
   },
   "outputs": [
    {
     "data": {
      "text/html": [
       "<div>\n",
       "<style scoped>\n",
       "    .dataframe tbody tr th:only-of-type {\n",
       "        vertical-align: middle;\n",
       "    }\n",
       "\n",
       "    .dataframe tbody tr th {\n",
       "        vertical-align: top;\n",
       "    }\n",
       "\n",
       "    .dataframe thead th {\n",
       "        text-align: right;\n",
       "    }\n",
       "</style>\n",
       "<table border=\"1\" class=\"dataframe\">\n",
       "  <thead>\n",
       "    <tr style=\"text-align: right;\">\n",
       "      <th></th>\n",
       "      <th>id</th>\n",
       "      <th>date</th>\n",
       "      <th>store_nbr</th>\n",
       "      <th>family</th>\n",
       "      <th>sales</th>\n",
       "      <th>onpromotion</th>\n",
       "      <th>city</th>\n",
       "      <th>state</th>\n",
       "      <th>type_x</th>\n",
       "      <th>cluster</th>\n",
       "      <th>dcoilwtico</th>\n",
       "      <th>is_relevant_holiday</th>\n",
       "      <th>day</th>\n",
       "      <th>week</th>\n",
       "      <th>month</th>\n",
       "      <th>year</th>\n",
       "      <th>day_of_week</th>\n",
       "      <th>is_weekend</th>\n",
       "      <th>weekday_name</th>\n",
       "      <th>month_year</th>\n",
       "      <th>holiday_flag</th>\n",
       "      <th>promotion_flag</th>\n",
       "      <th>economic_flag</th>\n",
       "      <th>is_payday</th>\n",
       "      <th>earthquake</th>\n",
       "      <th>rolling_mean</th>\n",
       "      <th>rolling_std</th>\n",
       "      <th>sales_prev_week</th>\n",
       "      <th>sales_prev_month</th>\n",
       "      <th>days_until_payday</th>\n",
       "    </tr>\n",
       "  </thead>\n",
       "  <tbody>\n",
       "    <tr>\n",
       "      <th>0</th>\n",
       "      <td>0</td>\n",
       "      <td>2013-01-01</td>\n",
       "      <td>1</td>\n",
       "      <td>AUTOMOTIVE</td>\n",
       "      <td>0.0</td>\n",
       "      <td>0</td>\n",
       "      <td>Quito</td>\n",
       "      <td>Pichincha</td>\n",
       "      <td>D</td>\n",
       "      <td>13</td>\n",
       "      <td>93.14</td>\n",
       "      <td>True</td>\n",
       "      <td>1</td>\n",
       "      <td>1</td>\n",
       "      <td>1</td>\n",
       "      <td>2013</td>\n",
       "      <td>3</td>\n",
       "      <td>0</td>\n",
       "      <td>Tuesday</td>\n",
       "      <td>2013-01</td>\n",
       "      <td>1</td>\n",
       "      <td>0</td>\n",
       "      <td>1</td>\n",
       "      <td>0</td>\n",
       "      <td>0</td>\n",
       "      <td>0.0</td>\n",
       "      <td>0.0</td>\n",
       "      <td>0.0</td>\n",
       "      <td>0.0</td>\n",
       "      <td>0</td>\n",
       "    </tr>\n",
       "    <tr>\n",
       "      <th>1</th>\n",
       "      <td>1</td>\n",
       "      <td>2013-01-01</td>\n",
       "      <td>1</td>\n",
       "      <td>BABY CARE</td>\n",
       "      <td>0.0</td>\n",
       "      <td>0</td>\n",
       "      <td>Quito</td>\n",
       "      <td>Pichincha</td>\n",
       "      <td>D</td>\n",
       "      <td>13</td>\n",
       "      <td>93.14</td>\n",
       "      <td>True</td>\n",
       "      <td>1</td>\n",
       "      <td>1</td>\n",
       "      <td>1</td>\n",
       "      <td>2013</td>\n",
       "      <td>3</td>\n",
       "      <td>0</td>\n",
       "      <td>Tuesday</td>\n",
       "      <td>2013-01</td>\n",
       "      <td>1</td>\n",
       "      <td>0</td>\n",
       "      <td>1</td>\n",
       "      <td>0</td>\n",
       "      <td>0</td>\n",
       "      <td>0.0</td>\n",
       "      <td>0.0</td>\n",
       "      <td>0.0</td>\n",
       "      <td>0.0</td>\n",
       "      <td>0</td>\n",
       "    </tr>\n",
       "    <tr>\n",
       "      <th>2</th>\n",
       "      <td>2</td>\n",
       "      <td>2013-01-01</td>\n",
       "      <td>1</td>\n",
       "      <td>BEAUTY</td>\n",
       "      <td>0.0</td>\n",
       "      <td>0</td>\n",
       "      <td>Quito</td>\n",
       "      <td>Pichincha</td>\n",
       "      <td>D</td>\n",
       "      <td>13</td>\n",
       "      <td>93.14</td>\n",
       "      <td>True</td>\n",
       "      <td>1</td>\n",
       "      <td>1</td>\n",
       "      <td>1</td>\n",
       "      <td>2013</td>\n",
       "      <td>3</td>\n",
       "      <td>0</td>\n",
       "      <td>Tuesday</td>\n",
       "      <td>2013-01</td>\n",
       "      <td>1</td>\n",
       "      <td>0</td>\n",
       "      <td>1</td>\n",
       "      <td>0</td>\n",
       "      <td>0</td>\n",
       "      <td>0.0</td>\n",
       "      <td>0.0</td>\n",
       "      <td>0.0</td>\n",
       "      <td>0.0</td>\n",
       "      <td>0</td>\n",
       "    </tr>\n",
       "    <tr>\n",
       "      <th>3</th>\n",
       "      <td>3</td>\n",
       "      <td>2013-01-01</td>\n",
       "      <td>1</td>\n",
       "      <td>BEVERAGES</td>\n",
       "      <td>0.0</td>\n",
       "      <td>0</td>\n",
       "      <td>Quito</td>\n",
       "      <td>Pichincha</td>\n",
       "      <td>D</td>\n",
       "      <td>13</td>\n",
       "      <td>93.14</td>\n",
       "      <td>True</td>\n",
       "      <td>1</td>\n",
       "      <td>1</td>\n",
       "      <td>1</td>\n",
       "      <td>2013</td>\n",
       "      <td>3</td>\n",
       "      <td>0</td>\n",
       "      <td>Tuesday</td>\n",
       "      <td>2013-01</td>\n",
       "      <td>1</td>\n",
       "      <td>0</td>\n",
       "      <td>1</td>\n",
       "      <td>0</td>\n",
       "      <td>0</td>\n",
       "      <td>0.0</td>\n",
       "      <td>0.0</td>\n",
       "      <td>0.0</td>\n",
       "      <td>0.0</td>\n",
       "      <td>0</td>\n",
       "    </tr>\n",
       "    <tr>\n",
       "      <th>4</th>\n",
       "      <td>4</td>\n",
       "      <td>2013-01-01</td>\n",
       "      <td>1</td>\n",
       "      <td>BOOKS</td>\n",
       "      <td>0.0</td>\n",
       "      <td>0</td>\n",
       "      <td>Quito</td>\n",
       "      <td>Pichincha</td>\n",
       "      <td>D</td>\n",
       "      <td>13</td>\n",
       "      <td>93.14</td>\n",
       "      <td>True</td>\n",
       "      <td>1</td>\n",
       "      <td>1</td>\n",
       "      <td>1</td>\n",
       "      <td>2013</td>\n",
       "      <td>3</td>\n",
       "      <td>0</td>\n",
       "      <td>Tuesday</td>\n",
       "      <td>2013-01</td>\n",
       "      <td>1</td>\n",
       "      <td>0</td>\n",
       "      <td>1</td>\n",
       "      <td>0</td>\n",
       "      <td>0</td>\n",
       "      <td>0.0</td>\n",
       "      <td>0.0</td>\n",
       "      <td>0.0</td>\n",
       "      <td>0.0</td>\n",
       "      <td>0</td>\n",
       "    </tr>\n",
       "  </tbody>\n",
       "</table>\n",
       "</div>"
      ],
      "text/plain": [
       "   id       date  store_nbr      family  sales  onpromotion   city      state  \\\n",
       "0   0 2013-01-01          1  AUTOMOTIVE    0.0            0  Quito  Pichincha   \n",
       "1   1 2013-01-01          1   BABY CARE    0.0            0  Quito  Pichincha   \n",
       "2   2 2013-01-01          1      BEAUTY    0.0            0  Quito  Pichincha   \n",
       "3   3 2013-01-01          1   BEVERAGES    0.0            0  Quito  Pichincha   \n",
       "4   4 2013-01-01          1       BOOKS    0.0            0  Quito  Pichincha   \n",
       "\n",
       "  type_x  cluster  dcoilwtico  is_relevant_holiday  day  week  month  year  \\\n",
       "0      D       13       93.14                 True    1     1      1  2013   \n",
       "1      D       13       93.14                 True    1     1      1  2013   \n",
       "2      D       13       93.14                 True    1     1      1  2013   \n",
       "3      D       13       93.14                 True    1     1      1  2013   \n",
       "4      D       13       93.14                 True    1     1      1  2013   \n",
       "\n",
       "   day_of_week  is_weekend weekday_name month_year  holiday_flag  \\\n",
       "0            3           0      Tuesday    2013-01             1   \n",
       "1            3           0      Tuesday    2013-01             1   \n",
       "2            3           0      Tuesday    2013-01             1   \n",
       "3            3           0      Tuesday    2013-01             1   \n",
       "4            3           0      Tuesday    2013-01             1   \n",
       "\n",
       "   promotion_flag  economic_flag  is_payday  earthquake  rolling_mean  \\\n",
       "0               0              1          0           0           0.0   \n",
       "1               0              1          0           0           0.0   \n",
       "2               0              1          0           0           0.0   \n",
       "3               0              1          0           0           0.0   \n",
       "4               0              1          0           0           0.0   \n",
       "\n",
       "   rolling_std  sales_prev_week  sales_prev_month  days_until_payday  \n",
       "0          0.0              0.0               0.0                  0  \n",
       "1          0.0              0.0               0.0                  0  \n",
       "2          0.0              0.0               0.0                  0  \n",
       "3          0.0              0.0               0.0                  0  \n",
       "4          0.0              0.0               0.0                  0  "
      ]
     },
     "execution_count": 57,
     "metadata": {},
     "output_type": "execute_result"
    }
   ],
   "source": [
    "df.head()"
   ]
  },
  {
   "cell_type": "code",
   "execution_count": 58,
   "id": "bgMNVZq1mm-X",
   "metadata": {
    "executionInfo": {
     "elapsed": 7,
     "status": "ok",
     "timestamp": 1744191738028,
     "user": {
      "displayName": "Surya S B",
      "userId": "17741313183794657452"
     },
     "user_tz": -330
    },
    "id": "bgMNVZq1mm-X"
   },
   "outputs": [],
   "source": [
    "# # Calculate residuals from a simple linear model\n",
    "# from sklearn.linear_model import LinearRegression\n",
    "\n",
    "# # Prepare data (drop NA oil prices)\n",
    "# temp_df = df[['sales', 'dcoilwtico']].dropna()\n",
    "# X = temp_df[['dcoilwtico']]\n",
    "# y = temp_df['sales']\n",
    "\n",
    "# model = LinearRegression()\n",
    "# model.fit(X, y)\n",
    "# temp_df['predicted'] = model.predict(X)\n",
    "# temp_df['residual'] = temp_df['sales'] - temp_df['predicted']\n",
    "# temp_df['residual_zscore'] = np.abs(stats.zscore(temp_df['residual']))\n",
    "\n",
    "# # Get bivariate anomalies\n",
    "# bivariate_anomalies = temp_df[temp_df['residual_zscore'] > 3]"
   ]
  },
  {
   "cell_type": "code",
   "execution_count": 59,
   "id": "buHD40ZQoAXC",
   "metadata": {
    "executionInfo": {
     "elapsed": 7,
     "status": "ok",
     "timestamp": 1744191738037,
     "user": {
      "displayName": "Surya S B",
      "userId": "17741313183794657452"
     },
     "user_tz": -330
    },
    "id": "buHD40ZQoAXC"
   },
   "outputs": [],
   "source": [
    "from scipy.stats import zscore\n"
   ]
  },
  {
   "cell_type": "code",
   "execution_count": 60,
   "id": "4Dkqjju8oAZq",
   "metadata": {
    "executionInfo": {
     "elapsed": 78,
     "status": "ok",
     "timestamp": 1744191738118,
     "user": {
      "displayName": "Surya S B",
      "userId": "17741313183794657452"
     },
     "user_tz": -330
    },
    "id": "4Dkqjju8oAZq"
   },
   "outputs": [],
   "source": [
    "df['z_score'] = zscore(df['sales'])\n",
    "anomalies = df[np.abs(df['z_score']) > 3]"
   ]
  },
  {
   "cell_type": "markdown",
   "id": "TnvRGHddoy5C",
   "metadata": {
    "id": "TnvRGHddoy5C"
   },
   "source": [
    "# Part 2:  Model Training and Evaluation"
   ]
  },
  {
   "cell_type": "code",
   "execution_count": 61,
   "id": "2955aebd-5723-4297-be43-75ee6767235e",
   "metadata": {},
   "outputs": [],
   "source": [
    "#pip install keras"
   ]
  },
  {
   "cell_type": "code",
   "execution_count": 62,
   "id": "7dd2e6f3-58b1-462d-b77b-c166dd78d73d",
   "metadata": {},
   "outputs": [],
   "source": [
    "#pip install lightgbm"
   ]
  },
  {
   "cell_type": "code",
   "execution_count": 63,
   "id": "69d0ca1f-4ca3-49a7-a294-4bd923776536",
   "metadata": {},
   "outputs": [],
   "source": [
    "#pip install xgboost"
   ]
  },
  {
   "cell_type": "code",
   "execution_count": 64,
   "id": "e1460f7d-03cc-4211-adcb-03d2d945cb14",
   "metadata": {},
   "outputs": [],
   "source": [
    "#pip install tensorflow"
   ]
  },
  {
   "cell_type": "code",
   "execution_count": 65,
   "id": "a528b272-b1c4-4f49-8e0e-cec643d77d95",
   "metadata": {},
   "outputs": [],
   "source": [
    "#pip install tensorflow-gpu"
   ]
  },
  {
   "cell_type": "code",
   "execution_count": 66,
   "id": "YlED3q_trBbp",
   "metadata": {
    "executionInfo": {
     "elapsed": 11342,
     "status": "ok",
     "timestamp": 1744191749462,
     "user": {
      "displayName": "Surya S B",
      "userId": "17741313183794657452"
     },
     "user_tz": -330
    },
    "id": "YlED3q_trBbp"
   },
   "outputs": [],
   "source": [
    "from tensorflow import keras\n",
    "from sklearn.ensemble import RandomForestRegressor\n",
    "from sklearn.metrics import mean_squared_error, mean_absolute_error, mean_absolute_percentage_error, r2_score\n",
    "from xgboost import XGBRegressor\n",
    "from lightgbm import LGBMRegressor\n",
    "\n",
    "\n",
    "from keras.models import Sequential\n",
    "from keras.layers import LSTM, Dense\n",
    "from sklearn.preprocessing import MinMaxScaler\n",
    "\n",
    "from statsmodels.tsa.arima.model import ARIMA\n"
   ]
  },
  {
   "cell_type": "markdown",
   "id": "yNazNx967M2M",
   "metadata": {
    "id": "yNazNx967M2M"
   },
   "source": [
    "## Naïve Forecast (Baseline Model)\n",
    "For the baseline model, we simply predict that sales will be the same as they were in the previous week.\n",
    "This sets a benchmark to compare more advanced models against."
   ]
  },
  {
   "cell_type": "code",
   "execution_count": 67,
   "id": "oXQwHZGvsqeZ",
   "metadata": {
    "executionInfo": {
     "elapsed": 883,
     "status": "ok",
     "timestamp": 1744191750347,
     "user": {
      "displayName": "Surya S B",
      "userId": "17741313183794657452"
     },
     "user_tz": -330
    },
    "id": "oXQwHZGvsqeZ"
   },
   "outputs": [],
   "source": [
    "features = ['onpromotion', 'dcoilwtico', 'day', 'month', 'year', 'day_of_week',\n",
    "            'holiday_flag', 'promotion_flag', 'economic_flag', 'is_payday',\n",
    "            'rolling_mean', 'rolling_std', 'sales_prev_week', 'sales_prev_month']\n",
    "target = 'sales'\n",
    "\n",
    "train = df[df['date'] < '2017-07-01']\n",
    "test = df[df['date'] >= '2017-07-01']\n",
    "\n",
    "X_train, y_train = train[features], train[target]\n",
    "X_test, y_test = test[features], test[target]"
   ]
  },
  {
   "cell_type": "code",
   "execution_count": 68,
   "id": "7kjKqPATsqpn",
   "metadata": {
    "executionInfo": {
     "elapsed": 2,
     "status": "ok",
     "timestamp": 1744191750351,
     "user": {
      "displayName": "Surya S B",
      "userId": "17741313183794657452"
     },
     "user_tz": -330
    },
    "id": "7kjKqPATsqpn"
   },
   "outputs": [],
   "source": [
    "naive_pred = test['sales_prev_week']"
   ]
  },
  {
   "cell_type": "code",
   "execution_count": 69,
   "id": "0UBEGXRGsqsw",
   "metadata": {
    "colab": {
     "base_uri": "https://localhost:8080/"
    },
    "executionInfo": {
     "elapsed": 25,
     "status": "ok",
     "timestamp": 1744191750377,
     "user": {
      "displayName": "Surya S B",
      "userId": "17741313183794657452"
     },
     "user_tz": -330
    },
    "id": "0UBEGXRGsqsw",
    "outputId": "e2657a95-0613-4089-8940-876216381530"
   },
   "outputs": [
    {
     "name": "stderr",
     "output_type": "stream",
     "text": [
      "C:\\Users\\Surya-PC\\AppData\\Local\\Temp\\ipykernel_5864\\3312818304.py:1: SettingWithCopyWarning: \n",
      "A value is trying to be set on a copy of a slice from a DataFrame.\n",
      "Try using .loc[row_indexer,col_indexer] = value instead\n",
      "\n",
      "See the caveats in the documentation: https://pandas.pydata.org/pandas-docs/stable/user_guide/indexing.html#returning-a-view-versus-a-copy\n",
      "  test['naive_pred'] = test['sales'].shift(1)\n"
     ]
    }
   ],
   "source": [
    "test['naive_pred'] = test['sales'].shift(1)"
   ]
  },
  {
   "cell_type": "code",
   "execution_count": 70,
   "id": "NBFiEntDsqv7",
   "metadata": {
    "colab": {
     "base_uri": "https://localhost:8080/"
    },
    "executionInfo": {
     "elapsed": 10,
     "status": "ok",
     "timestamp": 1744191750386,
     "user": {
      "displayName": "Surya S B",
      "userId": "17741313183794657452"
     },
     "user_tz": -330
    },
    "id": "NBFiEntDsqv7",
    "outputId": "0d2c1dfc-a45d-4448-af7c-efb3f005510e"
   },
   "outputs": [
    {
     "name": "stderr",
     "output_type": "stream",
     "text": [
      "C:\\Users\\Surya-PC\\AppData\\Local\\Temp\\ipykernel_5864\\3881811062.py:1: FutureWarning: A value is trying to be set on a copy of a DataFrame or Series through chained assignment using an inplace method.\n",
      "The behavior will change in pandas 3.0. This inplace method will never work because the intermediate object on which we are setting values always behaves as a copy.\n",
      "\n",
      "For example, when doing 'df[col].method(value, inplace=True)', try using 'df.method({col: value}, inplace=True)' or df[col] = df[col].method(value) instead, to perform the operation inplace on the original object.\n",
      "\n",
      "\n",
      "  test['naive_pred'].fillna(train['sales'].iloc[-1], inplace=True)\n",
      "C:\\Users\\Surya-PC\\AppData\\Local\\Temp\\ipykernel_5864\\3881811062.py:1: SettingWithCopyWarning: \n",
      "A value is trying to be set on a copy of a slice from a DataFrame\n",
      "\n",
      "See the caveats in the documentation: https://pandas.pydata.org/pandas-docs/stable/user_guide/indexing.html#returning-a-view-versus-a-copy\n",
      "  test['naive_pred'].fillna(train['sales'].iloc[-1], inplace=True)\n"
     ]
    }
   ],
   "source": [
    "test['naive_pred'].fillna(train['sales'].iloc[-1], inplace=True)"
   ]
  },
  {
   "cell_type": "markdown",
   "id": "BRHBrIl6sRP8",
   "metadata": {
    "id": "BRHBrIl6sRP8"
   },
   "source": [
    "## ARIMA:"
   ]
  },
  {
   "cell_type": "markdown",
   "id": "UNEZ9cv16kuN",
   "metadata": {
    "id": "UNEZ9cv16kuN"
   },
   "source": [
    "We used an ARIMA model to forecast future sales based on historical daily totals.\n",
    "The model was trained on data up to June 30, 2017.\n",
    "We used (4,1,1) as the order parameters:\n",
    "4: number of lag observations (AR)\n",
    "1: differencing (to make the series stationary)\n",
    "0: no moving average component (MA)\n",
    "Forecasted values were clipped to avoid negative predictions."
   ]
  },
  {
   "cell_type": "code",
   "execution_count": 71,
   "id": "URq969DRpDQ2",
   "metadata": {
    "colab": {
     "base_uri": "https://localhost:8080/"
    },
    "executionInfo": {
     "elapsed": 2272,
     "status": "ok",
     "timestamp": 1744191752659,
     "user": {
      "displayName": "Surya S B",
      "userId": "17741313183794657452"
     },
     "user_tz": -330
    },
    "id": "URq969DRpDQ2",
    "outputId": "11052376-9c4f-4f65-b1cc-74b8bd1a91d2"
   },
   "outputs": [
    {
     "name": "stderr",
     "output_type": "stream",
     "text": [
      "C:\\Users\\Surya-PC\\anaconda3\\envs\\dl\\lib\\site-packages\\statsmodels\\tsa\\base\\tsa_model.py:473: ValueWarning: A date index has been provided, but it has no associated frequency information and so will be ignored when e.g. forecasting.\n",
      "  self._init_dates(dates, freq)\n",
      "C:\\Users\\Surya-PC\\anaconda3\\envs\\dl\\lib\\site-packages\\statsmodels\\tsa\\base\\tsa_model.py:473: ValueWarning: A date index has been provided, but it has no associated frequency information and so will be ignored when e.g. forecasting.\n",
      "  self._init_dates(dates, freq)\n",
      "C:\\Users\\Surya-PC\\anaconda3\\envs\\dl\\lib\\site-packages\\statsmodels\\tsa\\base\\tsa_model.py:473: ValueWarning: A date index has been provided, but it has no associated frequency information and so will be ignored when e.g. forecasting.\n",
      "  self._init_dates(dates, freq)\n",
      "C:\\Users\\Surya-PC\\anaconda3\\envs\\dl\\lib\\site-packages\\statsmodels\\tsa\\base\\tsa_model.py:837: ValueWarning: No supported index is available. Prediction results will be given with an integer index beginning at `start`.\n",
      "  return get_prediction_index(\n",
      "C:\\Users\\Surya-PC\\anaconda3\\envs\\dl\\lib\\site-packages\\statsmodels\\tsa\\base\\tsa_model.py:837: FutureWarning: No supported index is available. In the next version, calling this method in a model without a supported index will result in an exception.\n",
      "  return get_prediction_index(\n"
     ]
    }
   ],
   "source": [
    "sales_series = df.groupby('date')['sales'].sum()\n",
    "\n",
    "model = ARIMA(sales_series[:'2017-06-30'], order=(4,1,0))\n",
    "model_fit = model.fit()\n",
    "\n",
    "arima_forecast = model_fit.forecast(steps=len(test))\n",
    "\n",
    "arima_forecast = np.clip(arima_forecast.values, 0, None)"
   ]
  },
  {
   "cell_type": "markdown",
   "id": "lUIhLxAlsQRI",
   "metadata": {
    "id": "lUIhLxAlsQRI"
   },
   "source": [
    "# Random Forest:"
   ]
  },
  {
   "cell_type": "code",
   "execution_count": 72,
   "id": "9g-sDzzxq3cQ",
   "metadata": {
    "id": "9g-sDzzxq3cQ"
   },
   "outputs": [],
   "source": [
    "rf = RandomForestRegressor(n_estimators=100, max_depth=10, random_state=42)\n",
    "rf.fit(X_train, y_train)\n",
    "rf_pred = rf.predict(X_test)"
   ]
  },
  {
   "cell_type": "markdown",
   "id": "F0HirPKMuycU",
   "metadata": {
    "id": "F0HirPKMuycU"
   },
   "source": [
    "# XGBoost Regressor"
   ]
  },
  {
   "cell_type": "code",
   "execution_count": 73,
   "id": "3fvs00Mvu0i9",
   "metadata": {
    "id": "3fvs00Mvu0i9"
   },
   "outputs": [],
   "source": [
    "xgb = XGBRegressor(n_estimators=100, learning_rate=0.1, random_state=42)\n",
    "xgb.fit(X_train, y_train)\n",
    "xgb_pred = xgb.predict(X_test)"
   ]
  },
  {
   "cell_type": "markdown",
   "id": "3Ufh6PHMu-X1",
   "metadata": {
    "id": "3Ufh6PHMu-X1"
   },
   "source": [
    "# LSTM Model"
   ]
  },
  {
   "cell_type": "code",
   "execution_count": 74,
   "id": "5AoRccz5vAuV",
   "metadata": {
    "id": "5AoRccz5vAuV"
   },
   "outputs": [
    {
     "name": "stderr",
     "output_type": "stream",
     "text": [
      "C:\\Users\\Surya-PC\\anaconda3\\envs\\dl\\lib\\site-packages\\keras\\src\\layers\\rnn\\rnn.py:200: UserWarning: Do not pass an `input_shape`/`input_dim` argument to a layer. When using Sequential models, prefer using an `Input(shape)` object as the first layer in the model instead.\n",
      "  super().__init__(**kwargs)\n"
     ]
    },
    {
     "name": "stdout",
     "output_type": "stream",
     "text": [
      "\u001b[1m2618/2618\u001b[0m \u001b[32m━━━━━━━━━━━━━━━━━━━━\u001b[0m\u001b[37m\u001b[0m \u001b[1m2s\u001b[0m 837us/step\n"
     ]
    }
   ],
   "source": [
    "scaler = MinMaxScaler()\n",
    "X_train_scaled = scaler.fit_transform(X_train)\n",
    "X_test_scaled = scaler.transform(X_test)\n",
    "\n",
    "X_train_lstm = X_train_scaled.reshape((X_train_scaled.shape[0], 1, X_train_scaled.shape[1]))\n",
    "X_test_lstm = X_test_scaled.reshape((X_test_scaled.shape[0], 1, X_test_scaled.shape[1]))\n",
    "\n",
    "\n",
    "lstm = Sequential()\n",
    "lstm.add(LSTM(50, activation='relu', input_shape=(1, X_train_scaled.shape[1])))\n",
    "lstm.add(Dense(1))\n",
    "lstm.compile(optimizer='adam', loss='mse')\n",
    "lstm.fit(X_train_lstm, y_train, epochs=5, batch_size=64, verbose=0)\n",
    "\n",
    "lstm_preds = lstm.predict(X_test_lstm).flatten()"
   ]
  },
  {
   "cell_type": "code",
   "execution_count": null,
   "id": "97xGxRBMvE97",
   "metadata": {
    "id": "97xGxRBMvE97"
   },
   "outputs": [],
   "source": []
  },
  {
   "cell_type": "markdown",
   "id": "UWEGsM_NvHqN",
   "metadata": {
    "id": "UWEGsM_NvHqN"
   },
   "source": [
    "2. Model Evaluation\n",
    "Defined a function to evaluate model performance using three key metrics:\n",
    "RMSE (Root Mean Squared Error): Measures the average magnitude of the errors.\n",
    "MAPE (Mean Absolute Percentage Error): Shows error as a percentage.\n",
    "R² Score: Tells how well the model explains the variance in actual sales.\n",
    "This function prints all metrics for easy comparison between models."
   ]
  },
  {
   "cell_type": "code",
   "execution_count": 75,
   "id": "b9wa73qKvLNj",
   "metadata": {
    "id": "b9wa73qKvLNj"
   },
   "outputs": [],
   "source": [
    "def evaluate_model(y_true, y_pred, model_name):\n",
    "    print(f\" {model_name}\")\n",
    "    mse = mean_squared_error(y_true, y_pred)\n",
    "    rmse = np.sqrt(mse)\n",
    "    print(\"RMSE:\", rmse)\n",
    "    print(\"MAPE:\", mean_absolute_percentage_error(y_true, y_pred))\n",
    "    print(\"R² Score:\", r2_score(y_true, y_pred))\n",
    "    print(\"-\" * 40)"
   ]
  },
  {
   "cell_type": "code",
   "execution_count": 76,
   "id": "V99vxeUFvOWS",
   "metadata": {
    "id": "V99vxeUFvOWS"
   },
   "outputs": [
    {
     "name": "stdout",
     "output_type": "stream",
     "text": [
      " Naïve Forecast\n",
      "RMSE: 1904.572827313253\n",
      "MAPE: 6.195617784938687e+17\n",
      "R² Score: -1.082017112682295\n",
      "----------------------------------------\n",
      " ARIMA\n",
      "RMSE: 739355.6538536962\n",
      "MAPE: 4.829169287018883e+20\n",
      "R² Score: -313757.8058854582\n",
      "----------------------------------------\n",
      " Random Forest\n",
      "RMSE: 520.5099905644116\n",
      "MAPE: 3.40783461853079e+16\n",
      "R² Score: 0.8444939584934624\n",
      "----------------------------------------\n",
      " XGBoost\n",
      "RMSE: 484.07310122986246\n",
      "MAPE: 4.787198779790583e+16\n",
      "R² Score: 0.8655034859663333\n",
      "----------------------------------------\n",
      " LSTM\n",
      "RMSE: 715.864903717314\n",
      "MAPE: 2.596707792107788e+16\n",
      "R² Score: 0.7058619093022017\n",
      "----------------------------------------\n"
     ]
    }
   ],
   "source": [
    "evaluate_model(test['sales'], test['naive_pred'], \"Naïve Forecast\")\n",
    "evaluate_model(y_test, arima_forecast, \"ARIMA\")\n",
    "evaluate_model(y_test, rf_pred, \"Random Forest\")\n",
    "evaluate_model(y_test, xgb_pred, \"XGBoost\")\n",
    "evaluate_model(y_test, lstm_preds, \"LSTM\")"
   ]
  },
  {
   "cell_type": "code",
   "execution_count": 77,
   "id": "0QDQkHtKvYhY",
   "metadata": {
    "id": "0QDQkHtKvYhY"
   },
   "outputs": [
    {
     "data": {
      "image/png": "[encoded data removed]",
      "text/plain": [
       "<Figure size 1400x600 with 1 Axes>"
      ]
     },
     "metadata": {},
     "output_type": "display_data"
    }
   ],
   "source": [
    "plt.figure(figsize=(14, 6))\n",
    "plt.plot(test['date'], y_test, label=\"Actual Sales\", linewidth=2)\n",
    "plt.plot(test['date'], rf_pred, label=\"Random Forest\")\n",
    "plt.plot(test['date'], xgb_pred, label=\"XGBoost\")\n",
    "plt.plot(test['date'], lstm_preds, label=\"LSTM\")\n",
    "plt.legend()\n",
    "plt.title(\"Actual vs Predicted Sales\")\n",
    "plt.xlabel(\"Date\")\n",
    "plt.ylabel(\"Sales\")\n",
    "plt.show()"
   ]
  },
  {
   "cell_type": "code",
   "execution_count": 78,
   "id": "FvV3Jv_yvZHP",
   "metadata": {
    "id": "FvV3Jv_yvZHP"
   },
   "outputs": [
    {
     "data": {
      "image/png": "[encoded data removed]",
      "text/plain": [
       "<Figure size 1400x600 with 1 Axes>"
      ]
     },
     "metadata": {},
     "output_type": "display_data"
    }
   ],
   "source": [
    "plt.figure(figsize=(14, 6))\n",
    "\n",
    "# Plot entire sales history\n",
    "plt.plot(df['date'], df['sales'], label=\"Historical Sales\", color='gray')\n",
    "\n",
    "# Overlay predicted sales on test portion\n",
    "plt.plot(test['date'], rf_pred, label=\"Random Forest Prediction\", linestyle='--')\n",
    "plt.plot(test['date'], xgb_pred, label=\"XGBoost Prediction\", linestyle='--')\n",
    "plt.plot(test['date'], lstm_preds, label=\"LSTM Prediction\", linestyle='--')\n",
    "\n",
    "plt.title(\"Historical Sales + Forecasted Sales\", fontsize=16)\n",
    "plt.xlabel(\"Date\")\n",
    "plt.ylabel(\"Sales\")\n",
    "plt.legend()\n",
    "plt.grid(True)\n",
    "plt.tight_layout()\n",
    "plt.show()"
   ]
  },
  {
   "cell_type": "code",
   "execution_count": 89,
   "id": "faIbq37TxI3S",
   "metadata": {
    "id": "faIbq37TxI3S"
   },
   "outputs": [
    {
     "data": {
      "text/html": [
       "<div>\n",
       "<style scoped>\n",
       "    .dataframe tbody tr th:only-of-type {\n",
       "        vertical-align: middle;\n",
       "    }\n",
       "\n",
       "    .dataframe tbody tr th {\n",
       "        vertical-align: top;\n",
       "    }\n",
       "\n",
       "    .dataframe thead th {\n",
       "        text-align: right;\n",
       "    }\n",
       "</style>\n",
       "<table border=\"1\" class=\"dataframe\">\n",
       "  <thead>\n",
       "    <tr style=\"text-align: right;\">\n",
       "      <th></th>\n",
       "      <th>Model</th>\n",
       "      <th>RMSE</th>\n",
       "      <th>MAPE</th>\n",
       "      <th>R² Score</th>\n",
       "    </tr>\n",
       "  </thead>\n",
       "  <tbody>\n",
       "    <tr>\n",
       "      <th>0</th>\n",
       "      <td>XGBoost</td>\n",
       "      <td>484.07</td>\n",
       "      <td>4.780000e+16</td>\n",
       "      <td>0.86</td>\n",
       "    </tr>\n",
       "    <tr>\n",
       "      <th>1</th>\n",
       "      <td>Random Forest</td>\n",
       "      <td>520.50</td>\n",
       "      <td>3.400000e+16</td>\n",
       "      <td>0.84</td>\n",
       "    </tr>\n",
       "    <tr>\n",
       "      <th>2</th>\n",
       "      <td>LSTM</td>\n",
       "      <td>715.86</td>\n",
       "      <td>2.590000e+16</td>\n",
       "      <td>0.70</td>\n",
       "    </tr>\n",
       "    <tr>\n",
       "      <th>3</th>\n",
       "      <td>Naïve</td>\n",
       "      <td>1904.57</td>\n",
       "      <td>6.190000e+17</td>\n",
       "      <td>-1.08</td>\n",
       "    </tr>\n",
       "    <tr>\n",
       "      <th>4</th>\n",
       "      <td>ARIMA</td>\n",
       "      <td>739355.65</td>\n",
       "      <td>4.820000e+20</td>\n",
       "      <td>-313757.80</td>\n",
       "    </tr>\n",
       "  </tbody>\n",
       "</table>\n",
       "</div>"
      ],
      "text/plain": [
       "           Model       RMSE          MAPE   R² Score\n",
       "0        XGBoost     484.07  4.780000e+16       0.86\n",
       "1  Random Forest     520.50  3.400000e+16       0.84\n",
       "2           LSTM     715.86  2.590000e+16       0.70\n",
       "3          Naïve    1904.57  6.190000e+17      -1.08\n",
       "4          ARIMA  739355.65  4.820000e+20 -313757.80"
      ]
     },
     "execution_count": 89,
     "metadata": {},
     "output_type": "execute_result"
    }
   ],
   "source": [
    "data = [[\"Naïve\", 1904.57, 6.19e17, -1.08],\n",
    "        [\"ARIMA\", 739355.65, 4.82e20, -313757.80],\n",
    "        [\"Random Forest\", 520.50, 3.40e16, 0.84],\n",
    "        [\"XGBoost\", 484.07, 4.78e16, 0.86],\n",
    "        [\"LSTM\", 715.86, 2.59e16, 0.70]]\n",
    "\n",
    "data = pd.DataFrame(data, columns=[\"Model\", \"RMSE\", \"MAPE\", \"R² Score\"])\n",
    "data = data.round(2).sort_values(by=\"RMSE\").reset_index(drop=True)\n",
    "data"
   ]
  },
  {
   "cell_type": "code",
   "execution_count": 90,
   "id": "QW76ZyFNxbci",
   "metadata": {
    "id": "QW76ZyFNxbci"
   },
   "outputs": [
    {
     "data": {
      "image/png": "[encoded data removed]",
      "text/plain": [
       "<Figure size 1000x600 with 1 Axes>"
      ]
     },
     "metadata": {},
     "output_type": "display_data"
    }
   ],
   "source": [
    "importances = pd.Series(xgb.feature_importances_, index=features).sort_values()\n",
    "\n",
    "plt.figure(figsize=(10, 6))\n",
    "importances.plot(kind='barh', color='teal')\n",
    "plt.title(\"XGBoost Feature Importance\")\n",
    "plt.xlabel(\"Importance Score\")\n",
    "plt.show()"
   ]
  },
  {
   "cell_type": "code",
   "execution_count": 91,
   "id": "rERhyoRKx8vm",
   "metadata": {
    "id": "rERhyoRKx8vm"
   },
   "outputs": [],
   "source": [
    "# Load the test and sample submission files\n",
    "# Parsing the date column so we can use it easily later\n",
    "\n",
    "test_df = pd.read_csv('test.csv', parse_dates=['date'])\n",
    "sample_sub = pd.read_csv('sample_submission.csv')\n",
    "\n",
    "# test_df = pd.read_csv('/gdrive/My Drive/Colab Notebooks/Datasets/test.csv')\n",
    "# sample_sub = pd.read_csv('/gdrive/My Drive/Colab Notebooks/Datasets/sample_submission.csv')"
   ]
  },
  {
   "cell_type": "code",
   "execution_count": 92,
   "id": "FGd12-ymyM39",
   "metadata": {
    "id": "FGd12-ymyM39"
   },
   "outputs": [],
   "source": [
    "test_merged = test_df.merge(df.drop('sales', axis=1), on=['date', 'store_nbr', 'family', 'onpromotion'], how='left')"
   ]
  },
  {
   "cell_type": "code",
   "execution_count": 93,
   "id": "3VaK8YTYzU8K",
   "metadata": {
    "id": "3VaK8YTYzU8K"
   },
   "outputs": [],
   "source": [
    "features = ['onpromotion', 'dcoilwtico', 'day', 'month', 'year', 'day_of_week',\n",
    "            'holiday_flag', 'promotion_flag', 'economic_flag', 'is_payday',\n",
    "            'rolling_mean', 'rolling_std', 'sales_prev_week', 'sales_prev_month']\n",
    "\n",
    "X_final_test = test_merged[features]"
   ]
  },
  {
   "cell_type": "code",
   "execution_count": 94,
   "id": "S6qKQOGwzU-w",
   "metadata": {
    "id": "S6qKQOGwzU-w"
   },
   "outputs": [],
   "source": [
    "rf_final_pred = rf.predict(X_final_test)"
   ]
  },
  {
   "cell_type": "code",
   "execution_count": 95,
   "id": "f6SkJULhzrex",
   "metadata": {
    "id": "f6SkJULhzrex"
   },
   "outputs": [
    {
     "data": {
      "text/plain": [
       "array([  0.       ,   0.       ,   0.       , ...,   0.       ,\n",
       "       523.4492223,   0.       ])"
      ]
     },
     "execution_count": 95,
     "metadata": {},
     "output_type": "execute_result"
    }
   ],
   "source": [
    "rf_final_pred"
   ]
  },
  {
   "cell_type": "code",
   "execution_count": 96,
   "id": "QwfLMQH41Qru",
   "metadata": {
    "id": "QwfLMQH41Qru"
   },
   "outputs": [],
   "source": [
    "sample_sub['sales'] = rf_final_pred"
   ]
  },
  {
   "cell_type": "code",
   "execution_count": 97,
   "id": "NBRZjy6Q0CLM",
   "metadata": {
    "id": "NBRZjy6Q0CLM"
   },
   "outputs": [],
   "source": [
    "#sample_sub.to_csv('predicted_values.csv', index=False)"
   ]
  },
  {
   "cell_type": "markdown",
   "id": "0rzncgwa0PuR",
   "metadata": {
    "id": "0rzncgwa0PuR"
   },
   "source": [
    "# 4. Interpretation and Business Insights\n",
    "Top-Performing Model\n",
    "Among all models tested, XGBoost emerged as the most accurate, showing the lowest RMSE and MAPE and a strong R² score.\n",
    "\n",
    "Random Forest came in second but the performance for rf could increase with a change in the hyper-parameter (eg: max depth) \n",
    "\n",
    "Its ability to capture complex, non-linear relationships and handle a wide variety of features gave it a clear edge.\n",
    "In contrast, models like ARIMA and Naïve did not perform well due to their limited ability to incorporate multiple input variables.\n",
    "\n",
    "## Major Drivers of Sales\n",
    "\n",
    "Promotional activities and holiday events had a significant influence, often leading to noticeable spikes in sales.\n",
    "\n",
    "Oil prices had a weaker but still present impact—likely reflecting overall economic trends.\n",
    "\n",
    "Other impactful features included the day of the week, store classification, and lagged sales data (e.g., previous week's sales).\n",
    "\n",
    "## Recommendations for Business Strategy\n",
    "\n",
    "Adopt the Random Forest model for regular sales predictions moving forward.\n",
    "\n",
    "Plan inventory and staffing based on forecasted demand, especially around promotions and holidays.\n",
    "\n",
    "Use targeted marketing during forecasted low-sales periods to boost performance.\n",
    "\n",
    "Keep track of external economic indicators (like oil price changes) that may affect buying patterns.\n",
    "\n",
    "By applying these insights, the company can enhance its planning and make more informed, data-driven decisions to optimize performance."
   ]
  },
  {
   "cell_type": "code",
   "execution_count": null,
   "id": "4adb9e8f-b45b-436b-9afd-45bbaf74e9b8",
   "metadata": {},
   "outputs": [],
   "source": []
  }
 ],
 "metadata": {
  "colab": {
   "provenance": []
  },
  "kernelspec": {
   "display_name": "Python 3 (ipykernel)",
   "language": "python",
   "name": "python3"
  },
  "language_info": {
   "codemirror_mode": {
    "name": "ipython",
    "version": 3
   },
   "file_extension": ".py",
   "mimetype": "text/x-python",
   "name": "python",
   "nbconvert_exporter": "python",
   "pygments_lexer": "ipython3",
   "version": "3.9.21"
  }
 },
 "nbformat": 4,
 "nbformat_minor": 5
}
